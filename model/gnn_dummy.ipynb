{
 "cells": [
  {
   "cell_type": "code",
   "execution_count": 1,
   "id": "ae5dfdb9",
   "metadata": {},
   "outputs": [],
   "source": [
    "import json\n",
    "import sys\n",
    "sys.path.append(\"../src\")\n",
    "\n",
    "from model_function import build_graph_from_sample\n",
    "\n",
    "# Construct the GNN Data\n",
    "with open(\"../data/casuals_feas.json\") as f:\n",
    "    casuals = json.load(f)\n",
    "\n",
    "# Remove the climbing point <= 6\n",
    "casuals = [c for c in casuals if c[\"features\"][\"n_points\"]>6]\n",
    "\n",
    "graph_list = [build_graph_from_sample(sample) for sample in casuals]"
   ]
  }
 ],
 "metadata": {
  "kernelspec": {
   "display_name": "Python 3",
   "language": "python",
   "name": "python3"
  },
  "language_info": {
   "codemirror_mode": {
    "name": "ipython",
    "version": 3
   },
   "file_extension": ".py",
   "mimetype": "text/x-python",
   "name": "python",
   "nbconvert_exporter": "python",
   "pygments_lexer": "ipython3",
   "version": "3.10.9"
  }
 },
 "nbformat": 4,
 "nbformat_minor": 5
}
