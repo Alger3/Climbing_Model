{
 "cells": [
  {
   "cell_type": "code",
   "execution_count": 1,
   "id": "ae5dfdb9",
   "metadata": {},
   "outputs": [],
   "source": [
    "import json\n",
    "import sys\n",
    "sys.path.append(\"../src\")\n",
    "\n",
    "from model_function import build_graph_from_sample\n",
    "\n",
    "# Construct the GNN Data\n",
    "with open(\"../data/casuals_feas.json\") as f:\n",
    "    casuals = json.load(f)\n",
    "\n",
    "# Remove the climbing point <= 6\n",
    "casuals = [c for c in casuals if c[\"features\"][\"n_points\"]>6]\n",
    "\n",
    "graph_list = [build_graph_from_sample(sample) for sample in casuals]"
   ]
  },
  {
   "cell_type": "code",
   "execution_count": 6,
   "id": "b321b1ed",
   "metadata": {},
   "outputs": [
    {
     "name": "stdout",
     "output_type": "stream",
     "text": [
      "Epoch 1: Loss = 1794.3580, Accuracy: 0.9649\n",
      "Epoch 2: Loss = 694.3920, Accuracy: 0.9653\n",
      "Epoch 3: Loss = 689.1733, Accuracy: 0.9653\n",
      "Epoch 4: Loss = 687.7087, Accuracy: 0.9653\n",
      "Epoch 5: Loss = 686.7751, Accuracy: 0.9653\n",
      "Epoch 6: Loss = 685.5256, Accuracy: 0.9653\n",
      "Epoch 7: Loss = 683.4602, Accuracy: 0.9653\n",
      "Epoch 8: Loss = 682.2746, Accuracy: 0.9653\n",
      "Epoch 9: Loss = 682.2736, Accuracy: 0.9653\n",
      "Epoch 10: Loss = 682.2736, Accuracy: 0.9653\n"
     ]
    }
   ],
   "source": [
    "import torch.optim as optim\n",
    "from model_function import ClimbGNN\n",
    "import torch.nn as nn\n",
    "\n",
    "model = ClimbGNN()\n",
    "# Use Adam optimizer to update the model parameters\n",
    "optimizer = optim.Adam(model.parameters(),lr=0.01)\n",
    "\n",
    "# loss function to calculate the loss\n",
    "loss_fn = nn.CrossEntropyLoss()\n",
    "\n",
    "for epoch in range(10):\n",
    "    total_loss = 0\n",
    "    correct = 0\n",
    "    for graph in graph_list:\n",
    "        # Clear last round gradient\n",
    "        optimizer.zero_grad()\n",
    "        # forward: get the predicted result\n",
    "        out = model(graph)\n",
    "        # calculate the loss between predicted value and real label\n",
    "        loss = loss_fn(out,graph.y)\n",
    "        # calculate the gradient\n",
    "        loss.backward()\n",
    "        # Use gradient to update the model parameters\n",
    "        optimizer.step()\n",
    "        total_loss += loss.item()\n",
    "\n",
    "        pred = model(graph).argmax(dim=1)\n",
    "        correct += int(pred == graph.y)\n",
    "\n",
    "    print(f\"Epoch {epoch+1}: Loss = {total_loss:.4f}, Accuracy: {correct / len(graph_list):.4f}\")"
   ]
  },
  {
   "cell_type": "code",
   "execution_count": 9,
   "id": "ba81a061",
   "metadata": {},
   "outputs": [],
   "source": [
    "import torch\n",
    "\n",
    "# Save the model\n",
    "torch.save(model.state_dict(),\"climb_gnn_model.pth\")\n",
    "\n",
    "# # Load\n",
    "# model = ClimbGNN()\n",
    "# model.load_state_dict(torch.load(\"climb_gnn_model.pth\"))\n",
    "# model.eval()"
   ]
  }
 ],
 "metadata": {
  "kernelspec": {
   "display_name": "Python 3",
   "language": "python",
   "name": "python3"
  },
  "language_info": {
   "codemirror_mode": {
    "name": "ipython",
    "version": 3
   },
   "file_extension": ".py",
   "mimetype": "text/x-python",
   "name": "python",
   "nbconvert_exporter": "python",
   "pygments_lexer": "ipython3",
   "version": "3.10.9"
  }
 },
 "nbformat": 4,
 "nbformat_minor": 5
}
