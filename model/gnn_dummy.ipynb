{
 "cells": [
  {
   "cell_type": "markdown",
   "id": "b8d1bdfd",
   "metadata": {},
   "source": [
    "- This model is to output the feasibility"
   ]
  },
  {
   "cell_type": "code",
   "execution_count": 1,
   "id": "ae5dfdb9",
   "metadata": {},
   "outputs": [],
   "source": [
    "import json\n",
    "import sys\n",
    "sys.path.append(\"../src\")\n",
    "\n",
    "from model_function import build_graph_from_sample\n",
    "\n",
    "# Construct the GNN Data\n",
    "with open(\"../data/casuals_feas.json\") as f:\n",
    "    casuals = json.load(f)\n",
    "\n",
    "# Remove the climbing point <= 6\n",
    "casuals = [c for c in casuals if c[\"features\"][\"n_points\"]>6]\n",
    "\n",
    "graph_list = [build_graph_from_sample(sample) for sample in casuals]"
   ]
  },
  {
   "cell_type": "code",
   "execution_count": 6,
   "id": "b321b1ed",
   "metadata": {},
   "outputs": [
    {
     "name": "stdout",
     "output_type": "stream",
     "text": [
      "Epoch 1: Loss = 1794.3580, Accuracy: 0.9649\n",
      "Epoch 2: Loss = 694.3920, Accuracy: 0.9653\n",
      "Epoch 3: Loss = 689.1733, Accuracy: 0.9653\n",
      "Epoch 4: Loss = 687.7087, Accuracy: 0.9653\n",
      "Epoch 5: Loss = 686.7751, Accuracy: 0.9653\n",
      "Epoch 6: Loss = 685.5256, Accuracy: 0.9653\n",
      "Epoch 7: Loss = 683.4602, Accuracy: 0.9653\n",
      "Epoch 8: Loss = 682.2746, Accuracy: 0.9653\n",
      "Epoch 9: Loss = 682.2736, Accuracy: 0.9653\n",
      "Epoch 10: Loss = 682.2736, Accuracy: 0.9653\n"
     ]
    }
   ],
   "source": [
    "import torch.optim as optim\n",
    "from model_function import ClimbGNN\n",
    "import torch.nn as nn\n",
    "\n",
    "model = ClimbGNN()\n",
    "# Use Adam optimizer to update the model parameters\n",
    "optimizer = optim.Adam(model.parameters(),lr=0.01)\n",
    "\n",
    "# loss function to calculate the loss\n",
    "loss_fn = nn.CrossEntropyLoss()\n",
    "\n",
    "for epoch in range(10):\n",
    "    total_loss = 0\n",
    "    correct = 0\n",
    "    for graph in graph_list:\n",
    "        # Clear last round gradient\n",
    "        optimizer.zero_grad()\n",
    "        # forward: get the predicted result\n",
    "        out = model(graph)\n",
    "        # calculate the loss between predicted value and real label\n",
    "        loss = loss_fn(out,graph.y)\n",
    "        # calculate the gradient\n",
    "        loss.backward()\n",
    "        # Use gradient to update the model parameters\n",
    "        optimizer.step()\n",
    "        total_loss += loss.item()\n",
    "\n",
    "        pred = model(graph).argmax(dim=1)\n",
    "        correct += int(pred == graph.y)\n",
    "\n",
    "    print(f\"Epoch {epoch+1}: Loss = {total_loss:.4f}, Accuracy: {correct / len(graph_list):.4f}\")"
   ]
  },
  {
   "cell_type": "code",
   "execution_count": null,
   "id": "ba81a061",
   "metadata": {},
   "outputs": [],
   "source": [
    "import torch\n",
    "\n",
    "# Save the model\n",
    "torch.save(model.state_dict(),\"climb_gnn_model.pth\")"
   ]
  },
  {
   "cell_type": "code",
   "execution_count": null,
   "id": "452c45a1",
   "metadata": {},
   "outputs": [
    {
     "name": "stdout",
     "output_type": "stream",
     "text": [
      "Not feasible\n"
     ]
    },
    {
     "name": "stderr",
     "output_type": "stream",
     "text": [
      "C:\\Users\\guanj\\AppData\\Local\\Temp\\ipykernel_34544\\1830769959.py:7: FutureWarning: You are using `torch.load` with `weights_only=False` (the current default value), which uses the default pickle module implicitly. It is possible to construct malicious pickle data which will execute arbitrary code during unpickling (See https://github.com/pytorch/pytorch/blob/main/SECURITY.md#untrusted-models for more details). In a future release, the default value for `weights_only` will be flipped to `True`. This limits the functions that could be executed during unpickling. Arbitrary objects will no longer be allowed to be loaded via this mode unless they are explicitly allowlisted by the user via `torch.serialization.add_safe_globals`. We recommend you start setting `weights_only=True` for any use case where you don't have full control of the loaded file. Please open an issue on GitHub for any issues related to this experimental feature.\n",
      "  model.load_state_dict(torch.load(\"climb_gnn_model.pth\"))\n"
     ]
    }
   ],
   "source": [
    "from model_function import predict_feasibility\n",
    "from model_function import ClimbGNN\n",
    "import torch\n",
    "\n",
    "# Load\n",
    "model = ClimbGNN()\n",
    "model.load_state_dict(torch.load(\"climb_gnn_model.pth\"))\n",
    "\n",
    "route = [[1360.3333333333333, 1839.9166666666667],\n",
    "    [1327.3809523809523, 1560.5714285714287],\n",
    "    [1023.0, 1340.9],\n",
    "    [1318.4545454545455, 1128.909090909091],\n",
    "    [1166.8666666666666, 778.4],\n",
    "    [934.3636363636364, 722.1818181818181],\n",
    "    [1225.4545454545455, 542.3636363636364],\n",
    "    [974.8333333333334, 471.1666666666667],\n",
    "    [918.425, 370.75],\n",
    "    [512.7142857142857, 278.14285714285717]]\n",
    "\n",
    "climber_info = {\n",
    "    'height': 179.3,\n",
    "    'weight': 63.9,\n",
    "    'ape_index': 1.08,\n",
    "    'strength': 98,\n",
    "    'flexibility': 8\n",
    "}\n",
    "\n",
    "feasible = predict_feasibility(model,route,climber_info)\n",
    "print(feasible)\n"
   ]
  }
 ],
 "metadata": {
  "kernelspec": {
   "display_name": "Python 3",
   "language": "python",
   "name": "python3"
  },
  "language_info": {
   "codemirror_mode": {
    "name": "ipython",
    "version": 3
   },
   "file_extension": ".py",
   "mimetype": "text/x-python",
   "name": "python",
   "nbconvert_exporter": "python",
   "pygments_lexer": "ipython3",
   "version": "3.10.9"
  }
 },
 "nbformat": 4,
 "nbformat_minor": 5
}
