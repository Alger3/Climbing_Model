{
 "cells": [
  {
   "cell_type": "markdown",
   "id": "6afe3b8c",
   "metadata": {},
   "source": [
    "# Construct the training data into Data format"
   ]
  },
  {
   "cell_type": "code",
   "execution_count": 1,
   "id": "fe807357",
   "metadata": {},
   "outputs": [],
   "source": [
    "import sys\n",
    "sys.path.append(\"../src\")\n",
    "\n",
    "import torch\n",
    "import pandas as pd\n",
    "import numpy as np\n",
    "from ast import literal_eval\n",
    "from collections import Counter\n",
    "from torch_geometric.data import Data\n",
    "from reachability_model_function import build_graph_reachability\n",
    "from dataset_function import generate_labeled_route_no_sides\n",
    "from torch_geometric.loader import DataLoader\n",
    "from reachability_model_function import ReachabilityGNN\n",
    "from sklearn.model_selection import  train_test_split\n",
    "from sklearn.metrics import classification_report\n",
    "import torch.nn as nn\n",
    "from sklearn.utils.class_weight import compute_class_weight\n",
    "from reachability_model_function import FocalLoss"
   ]
  },
  {
   "cell_type": "code",
   "execution_count": 2,
   "id": "1bbce7c3",
   "metadata": {},
   "outputs": [],
   "source": [
    "dataset = pd.read_csv(\"../data/reachability_dataset.csv\")"
   ]
  },
  {
   "cell_type": "code",
   "execution_count": 3,
   "id": "3b06eb10",
   "metadata": {},
   "outputs": [],
   "source": [
    "for name in dataset.columns:\n",
    "    dataset[name] = dataset[name].apply(literal_eval)"
   ]
  },
  {
   "cell_type": "code",
   "execution_count": 4,
   "id": "74920ff1",
   "metadata": {},
   "outputs": [],
   "source": [
    "# graph_list: each graph is a training sample\n",
    "graph_list = []\n",
    "\n",
    "for _, row in dataset.iterrows():\n",
    "    labels = generate_labeled_route_no_sides(row[\"route\"], row[\"hands\"], row[\"feet\"], row[\"climber\"])\n",
    "    if labels.count(0) / len(labels) < 0.95:\n",
    "        data = build_graph_reachability(row[\"route\"], row[\"hands\"], row[\"feet\"], row[\"climber\"], labels)\n",
    "        graph_list.append(data)"
   ]
  },
  {
   "cell_type": "code",
   "execution_count": 6,
   "id": "208074ef",
   "metadata": {},
   "outputs": [
    {
     "data": {
      "text/plain": [
       "89898"
      ]
     },
     "execution_count": 6,
     "metadata": {},
     "output_type": "execute_result"
    }
   ],
   "source": [
    "len(graph_list)"
   ]
  },
  {
   "cell_type": "code",
   "execution_count": 7,
   "id": "e2527b21",
   "metadata": {},
   "outputs": [],
   "source": [
    "# Save the graph_list to local\n",
    "torch.save(graph_list, \"graph_list_global.pt\")"
   ]
  },
  {
   "cell_type": "markdown",
   "id": "830a8cd2",
   "metadata": {},
   "source": [
    "# Train the Model"
   ]
  },
  {
   "cell_type": "code",
   "execution_count": 2,
   "id": "2a7b205d",
   "metadata": {},
   "outputs": [
    {
     "name": "stderr",
     "output_type": "stream",
     "text": [
      "C:\\Users\\guanj\\AppData\\Local\\Temp\\ipykernel_13380\\1285557832.py:2: FutureWarning: You are using `torch.load` with `weights_only=False` (the current default value), which uses the default pickle module implicitly. It is possible to construct malicious pickle data which will execute arbitrary code during unpickling (See https://github.com/pytorch/pytorch/blob/main/SECURITY.md#untrusted-models for more details). In a future release, the default value for `weights_only` will be flipped to `True`. This limits the functions that could be executed during unpickling. Arbitrary objects will no longer be allowed to be loaded via this mode unless they are explicitly allowlisted by the user via `torch.serialization.add_safe_globals`. We recommend you start setting `weights_only=True` for any use case where you don't have full control of the loaded file. Please open an issue on GitHub for any issues related to this experimental feature.\n",
      "  graph_list = torch.load(\"graph_list_global.pt\")\n"
     ]
    }
   ],
   "source": [
    "# Load pt file\n",
    "graph_list = torch.load(\"graph_list_global.pt\")"
   ]
  },
  {
   "cell_type": "code",
   "execution_count": 3,
   "id": "c40dfbd0",
   "metadata": {},
   "outputs": [],
   "source": [
    "train_data, test_data = train_test_split(graph_list, test_size=0.2, random_state=42)"
   ]
  },
  {
   "cell_type": "code",
   "execution_count": 4,
   "id": "4a3fe954",
   "metadata": {},
   "outputs": [],
   "source": [
    "# Use GPU\n",
    "device = torch.device(\"cuda\" if torch.cuda.is_available() else 'cpu')"
   ]
  },
  {
   "cell_type": "code",
   "execution_count": 5,
   "id": "b6c60a67",
   "metadata": {},
   "outputs": [
    {
     "name": "stdout",
     "output_type": "stream",
     "text": [
      "Used Weights: tensor([0.3115, 1.8765, 5.0000, 2.1835])\n"
     ]
    }
   ],
   "source": [
    "all_labels = torch.cat([g.y for g in train_data])\n",
    "counts = Counter(all_labels.tolist())\n",
    "total = sum(counts.values())\n",
    "\n",
    "max_cap = 5\n",
    "weights = [min(np.log(total / (counts.get(i, 1) + 1)), max_cap) for i in range(4)]\n",
    "weights = torch.tensor(weights, dtype=torch.float)\n",
    "\n",
    "print(\"Used Weights:\", weights)"
   ]
  },
  {
   "cell_type": "markdown",
   "id": "53d31198",
   "metadata": {},
   "source": [
    "# Use Balanced"
   ]
  },
  {
   "cell_type": "code",
   "execution_count": 6,
   "id": "60f1743f",
   "metadata": {},
   "outputs": [
    {
     "name": "stdout",
     "output_type": "stream",
     "text": [
      "Balanced weights: tensor([0.3414, 1.6327, 5.0000, 2.2193], device='cuda:0')\n"
     ]
    }
   ],
   "source": [
    "all_train_labels = []\n",
    "for g in train_data:\n",
    "    all_train_labels.extend(g.y.cpu().numpy())  \n",
    "\n",
    "classes = np.unique(all_train_labels)\n",
    "weights = compute_class_weight(class_weight=\"balanced\", classes=classes, y=all_train_labels)\n",
    "\n",
    "weights = np.clip(weights, a_min=None, a_max=5.0)\n",
    "weights = torch.tensor(weights, dtype=torch.float).to(device)\n",
    "\n",
    "print(\"Balanced weights:\", weights)"
   ]
  },
  {
   "cell_type": "code",
   "execution_count": 7,
   "id": "cfd35f09",
   "metadata": {},
   "outputs": [
    {
     "name": "stdout",
     "output_type": "stream",
     "text": [
      "Epoch 00 | Loss: 849.8344 | LR: 0.00100 | LossFn: FocalLoss\n",
      "Epoch 01 | Loss: 528.6404 | LR: 0.00100 | LossFn: FocalLoss\n",
      "Epoch 02 | Loss: 445.6312 | LR: 0.00100 | LossFn: FocalLoss\n",
      "Epoch 03 | Loss: 404.7861 | LR: 0.00100 | LossFn: FocalLoss\n",
      "Epoch 04 | Loss: 368.0491 | LR: 0.00100 | LossFn: FocalLoss\n",
      "Epoch 05 | Loss: 325.9857 | LR: 0.00100 | LossFn: FocalLoss\n",
      "Epoch 06 | Loss: 318.6552 | LR: 0.00100 | LossFn: FocalLoss\n",
      "Epoch 07 | Loss: 294.8901 | LR: 0.00100 | LossFn: FocalLoss\n",
      "Epoch 08 | Loss: 288.0787 | LR: 0.00100 | LossFn: FocalLoss\n",
      "Epoch 09 | Loss: 280.6756 | LR: 0.00100 | LossFn: FocalLoss\n",
      "Epoch 10 | Loss: 269.1475 | LR: 0.00100 | LossFn: FocalLoss\n",
      "Epoch 11 | Loss: 254.4256 | LR: 0.00100 | LossFn: FocalLoss\n",
      "Epoch 12 | Loss: 262.6567 | LR: 0.00100 | LossFn: FocalLoss\n",
      "Epoch 13 | Loss: 268.8169 | LR: 0.00100 | LossFn: FocalLoss\n",
      "Epoch 14 | Loss: 251.2592 | LR: 0.00050 | LossFn: FocalLoss\n",
      "Epoch 15 | Loss: 196.8734 | LR: 0.00050 | LossFn: FocalLoss\n",
      "Epoch 16 | Loss: 191.2417 | LR: 0.00050 | LossFn: FocalLoss\n",
      "Epoch 17 | Loss: 183.7638 | LR: 0.00050 | LossFn: FocalLoss\n",
      "Epoch 18 | Loss: 185.0467 | LR: 0.00050 | LossFn: FocalLoss\n",
      "Epoch 19 | Loss: 178.8508 | LR: 0.00050 | LossFn: FocalLoss\n",
      "Epoch 20 | Loss: 173.7872 | LR: 0.00050 | LossFn: FocalLoss\n",
      "Epoch 21 | Loss: 170.5936 | LR: 0.00050 | LossFn: FocalLoss\n",
      "Epoch 22 | Loss: 175.1415 | LR: 0.00050 | LossFn: FocalLoss\n",
      "Epoch 23 | Loss: 174.0163 | LR: 0.00050 | LossFn: FocalLoss\n",
      "Epoch 24 | Loss: 172.3657 | LR: 0.00050 | LossFn: FocalLoss\n",
      "Epoch 25 | Loss: 174.3248 | LR: 0.00050 | LossFn: FocalLoss\n",
      "Epoch 26 | Loss: 166.5064 | LR: 0.00050 | LossFn: FocalLoss\n",
      "Epoch 27 | Loss: 178.5544 | LR: 0.00050 | LossFn: FocalLoss\n",
      "Epoch 28 | Loss: 173.4078 | LR: 0.00050 | LossFn: FocalLoss\n",
      "Epoch 29 | Loss: 171.1663 | LR: 0.00025 | LossFn: FocalLoss\n",
      "Epoch 30 | Loss: 140.0902 | LR: 0.00025 | LossFn: FocalLoss\n",
      "Epoch 31 | Loss: 138.9329 | LR: 0.00025 | LossFn: FocalLoss\n",
      "Epoch 32 | Loss: 136.7320 | LR: 0.00025 | LossFn: FocalLoss\n",
      "Epoch 33 | Loss: 136.9651 | LR: 0.00025 | LossFn: FocalLoss\n",
      "Epoch 34 | Loss: 139.2755 | LR: 0.00025 | LossFn: FocalLoss\n",
      "Epoch 35 | Loss: 134.5760 | LR: 0.00025 | LossFn: FocalLoss\n",
      "Epoch 36 | Loss: 134.6442 | LR: 0.00025 | LossFn: FocalLoss\n",
      "Epoch 37 | Loss: 131.5399 | LR: 0.00025 | LossFn: FocalLoss\n",
      "Epoch 38 | Loss: 136.9832 | LR: 0.00025 | LossFn: FocalLoss\n",
      "Epoch 39 | Loss: 151.9313 | LR: 0.00025 | LossFn: FocalLoss\n",
      "Epoch 40 | Loss: 132.2980 | LR: 0.00025 | LossFn: FocalLoss\n",
      "Epoch 41 | Loss: 125.3973 | LR: 0.00025 | LossFn: FocalLoss\n",
      "Epoch 42 | Loss: 122.9192 | LR: 0.00025 | LossFn: FocalLoss\n",
      "Epoch 43 | Loss: 127.5279 | LR: 0.00025 | LossFn: FocalLoss\n",
      "Epoch 44 | Loss: 133.9357 | LR: 0.00013 | LossFn: FocalLoss\n",
      "Epoch 45 | Loss: 108.0085 | LR: 0.00013 | LossFn: FocalLoss\n",
      "Epoch 46 | Loss: 109.3879 | LR: 0.00013 | LossFn: FocalLoss\n",
      "Epoch 47 | Loss: 108.5496 | LR: 0.00013 | LossFn: FocalLoss\n",
      "Epoch 48 | Loss: 106.6632 | LR: 0.00013 | LossFn: FocalLoss\n",
      "Epoch 49 | Loss: 106.4093 | LR: 0.00013 | LossFn: FocalLoss\n"
     ]
    }
   ],
   "source": [
    "# shuffle=True: Shuffle the order of the graph at each epoch to enhance the model's generalisation ability.\n",
    "loader = DataLoader(train_data, batch_size=8, shuffle=True)\n",
    "model = ReachabilityGNN().to(device)\n",
    "optimizer = torch.optim.Adam(model.parameters(), lr=1e-3)\n",
    "\n",
    "scheduler = torch.optim.lr_scheduler.StepLR(optimizer, step_size=15, gamma=0.5)\n",
    "\n",
    "# CrossEntropy\n",
    "# loss_fn = nn.CrossEntropyLoss(weight=weights)\n",
    "\n",
    "# Focal Loss\n",
    "loss_fn = FocalLoss(gamma=2.0, weight=weights)\n",
    "\n",
    "\n",
    "for epoch in range(50):\n",
    "    total_loss = 0\n",
    "    model.train()\n",
    "    for batch in loader:\n",
    "        batch = batch.to(device)\n",
    "        out = model(batch)\n",
    "        loss = loss_fn(out, batch.y)\n",
    "        optimizer.zero_grad()\n",
    "        loss.backward()\n",
    "\n",
    "        torch.nn.utils.clip_grad_norm_(model.parameters(), max_norm=5.0)\n",
    "        optimizer.step()\n",
    "        total_loss += loss.item()\n",
    "\n",
    "    scheduler.step()  # learning rate decay\n",
    "    current_lr = scheduler.get_last_lr()[0]   \n",
    "    print(f\"Epoch {epoch:02d} | Loss: {total_loss:.4f} | LR: {current_lr:.5f} | LossFn: {loss_fn.__class__.__name__}\")"
   ]
  },
  {
   "cell_type": "code",
   "execution_count": 8,
   "id": "a661ac40",
   "metadata": {},
   "outputs": [
    {
     "name": "stdout",
     "output_type": "stream",
     "text": [
      "Distribution of Predictions: Counter({0: 3677483, 1: 2366943, 3: 1046744, 2: 29144})\n"
     ]
    }
   ],
   "source": [
    "from torch_geometric.data import Batch\n",
    "from collections import Counter\n",
    "\n",
    "model.eval()\n",
    "all_preds = []\n",
    "\n",
    "with torch.no_grad():\n",
    "    for g in train_data:\n",
    "        batch = Batch.from_data_list([g])     \n",
    "        out = model(batch)                    \n",
    "        pred = out.argmax(dim=1)\n",
    "        all_preds.extend(pred.tolist())\n",
    "\n",
    "print(\"Distribution of Predictions:\", Counter(all_preds))"
   ]
  },
  {
   "cell_type": "code",
   "execution_count": null,
   "id": "f8a66e5e",
   "metadata": {},
   "outputs": [],
   "source": [
    "model.eval()\n",
    "with torch.no_grad():\n",
    "    preds = []\n",
    "    for g in graph_list[:30]:\n",
    "        p = model(g).argmax(dim=1)\n",
    "        preds.extend(p.tolist())\n",
    "\n",
    "print(\"Distribution of Predictions:\", Counter(preds))"
   ]
  },
  {
   "cell_type": "code",
   "execution_count": 8,
   "id": "b6ed9fdb",
   "metadata": {},
   "outputs": [],
   "source": [
    "torch.save(model.state_dict(),\"reachability_model8.pt\")"
   ]
  },
  {
   "cell_type": "code",
   "execution_count": 9,
   "id": "fec05756",
   "metadata": {},
   "outputs": [
    {
     "name": "stderr",
     "output_type": "stream",
     "text": [
      "C:\\Users\\guanj\\AppData\\Local\\Temp\\ipykernel_13380\\1088998374.py:3: FutureWarning: You are using `torch.load` with `weights_only=False` (the current default value), which uses the default pickle module implicitly. It is possible to construct malicious pickle data which will execute arbitrary code during unpickling (See https://github.com/pytorch/pytorch/blob/main/SECURITY.md#untrusted-models for more details). In a future release, the default value for `weights_only` will be flipped to `True`. This limits the functions that could be executed during unpickling. Arbitrary objects will no longer be allowed to be loaded via this mode unless they are explicitly allowlisted by the user via `torch.serialization.add_safe_globals`. We recommend you start setting `weights_only=True` for any use case where you don't have full control of the loaded file. Please open an issue on GitHub for any issues related to this experimental feature.\n",
      "  model.load_state_dict(torch.load(\"reachability_model8.pt\"))\n"
     ]
    },
    {
     "data": {
      "text/plain": [
       "ReachabilityGNN(\n",
       "  (conv1): GATConv(6, 64, heads=2)\n",
       "  (conv2): GATConv(64, 64, heads=2)\n",
       "  (climber_embed): Linear(in_features=4, out_features=64, bias=True)\n",
       "  (classifier): Sequential(\n",
       "    (0): Linear(in_features=128, out_features=64, bias=True)\n",
       "    (1): ReLU()\n",
       "    (2): Dropout(p=0.2, inplace=False)\n",
       "    (3): Linear(in_features=64, out_features=4, bias=True)\n",
       "  )\n",
       ")"
      ]
     },
     "execution_count": 9,
     "metadata": {},
     "output_type": "execute_result"
    }
   ],
   "source": [
    "# Load the model\n",
    "model = ReachabilityGNN().to(device)\n",
    "model.load_state_dict(torch.load(\"reachability_model8.pt\"))\n",
    "model.eval()"
   ]
  },
  {
   "cell_type": "code",
   "execution_count": 2,
   "id": "f69fef7d",
   "metadata": {},
   "outputs": [
    {
     "name": "stderr",
     "output_type": "stream",
     "text": [
      "C:\\Users\\guanj\\AppData\\Local\\Temp\\ipykernel_14260\\2863085696.py:1: FutureWarning: You are using `torch.load` with `weights_only=False` (the current default value), which uses the default pickle module implicitly. It is possible to construct malicious pickle data which will execute arbitrary code during unpickling (See https://github.com/pytorch/pytorch/blob/main/SECURITY.md#untrusted-models for more details). In a future release, the default value for `weights_only` will be flipped to `True`. This limits the functions that could be executed during unpickling. Arbitrary objects will no longer be allowed to be loaded via this mode unless they are explicitly allowlisted by the user via `torch.serialization.add_safe_globals`. We recommend you start setting `weights_only=True` for any use case where you don't have full control of the loaded file. Please open an issue on GitHub for any issues related to this experimental feature.\n",
      "  graph_list = torch.load(\"graph_list.pt\")\n"
     ]
    }
   ],
   "source": [
    "graph_list = torch.load(\"graph_list.pt\")"
   ]
  },
  {
   "cell_type": "code",
   "execution_count": 12,
   "id": "1330ccf1",
   "metadata": {},
   "outputs": [
    {
     "data": {
      "image/png": "[encoded data removed]",
      "text/plain": [
       "<Figure size 1200x400 with 1 Axes>"
      ]
     },
     "metadata": {},
     "output_type": "display_data"
    }
   ],
   "source": [
    "import matplotlib.pyplot as plt\n",
    "from torch_geometric.data import Batch\n",
    "graph = test_data[2450]\n",
    "batch = Batch.from_data_list([graph])\n",
    "batch = batch.to(device)\n",
    "\n",
    "with torch.no_grad():\n",
    "    pred_logits = model(batch)\n",
    "    pred_labels = pred_logits.argmax(dim=1)\n",
    "\n",
    "# 转 numpy\n",
    "true = graph.y.cpu().numpy()\n",
    "pred = pred_labels.cpu().numpy()\n",
    "\n",
    "# 绘图\n",
    "plt.figure(figsize=(12, 4))\n",
    "plt.plot(true, label='True', color='green')\n",
    "plt.plot(pred, label='Pred', linestyle='--', color='red')\n",
    "plt.legend()\n",
    "plt.title(\"True vs Predicted Labels\")\n",
    "plt.xlabel(\"Node Index\")\n",
    "plt.ylabel(\"Label\")\n",
    "plt.grid(True)\n",
    "plt.show()"
   ]
  },
  {
   "cell_type": "code",
   "execution_count": 13,
   "id": "a3188b1d",
   "metadata": {},
   "outputs": [
    {
     "name": "stdout",
     "output_type": "stream",
     "text": [
      "              precision    recall  f1-score   support\n",
      "\n",
      " unreachable       1.00      0.96      0.98   1297835\n",
      "        hand       0.74      1.00      0.85    269960\n",
      "        foot       0.32      0.93      0.48      3458\n",
      "        both       1.00      0.77      0.87    201083\n",
      "\n",
      "    accuracy                           0.94   1772336\n",
      "   macro avg       0.76      0.92      0.79   1772336\n",
      "weighted avg       0.96      0.94      0.95   1772336\n",
      "\n"
     ]
    }
   ],
   "source": [
    "all_preds, all_trues = [], []\n",
    "model.eval()\n",
    "with torch.no_grad():\n",
    "    for g in test_data:\n",
    "        batch = Batch.from_data_list([g])  \n",
    "        batch = batch.to(device)\n",
    "        out = model(batch)\n",
    "        pred = out.argmax(dim=1).cpu().numpy()\n",
    "        true = batch.y.cpu().numpy()\n",
    "        all_preds.extend(pred)\n",
    "        all_trues.extend(true)\n",
    "\n",
    "print(classification_report(all_trues, all_preds, target_names=[\"unreachable\", \"hand\", \"foot\", \"both\"]))"
   ]
  }
 ],
 "metadata": {
  "kernelspec": {
   "display_name": "Python 3",
   "language": "python",
   "name": "python3"
  },
  "language_info": {
   "codemirror_mode": {
    "name": "ipython",
    "version": 3
   },
   "file_extension": ".py",
   "mimetype": "text/x-python",
   "name": "python",
   "nbconvert_exporter": "python",
   "pygments_lexer": "ipython3",
   "version": "3.10.9"
  }
 },
 "nbformat": 4,
 "nbformat_minor": 5
}
