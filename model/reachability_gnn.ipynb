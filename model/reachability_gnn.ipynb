{
 "cells": [
  {
   "cell_type": "markdown",
   "id": "6afe3b8c",
   "metadata": {},
   "source": [
    "# Construct the training data into Data format"
   ]
  },
  {
   "cell_type": "code",
   "execution_count": 1,
   "id": "fe807357",
   "metadata": {},
   "outputs": [],
   "source": [
    "import sys\n",
    "sys.path.append(\"../src\")\n",
    "\n",
    "import torch\n",
    "import pandas as pd\n",
    "import numpy as np\n",
    "from ast import literal_eval\n",
    "from collections import Counter\n",
    "from torch_geometric.data import Data\n",
    "from reachability_model_function import build_graph_reachability\n",
    "from dataset_function import generate_labeled_route_no_sides\n",
    "from torch_geometric.loader import DataLoader\n",
    "from reachability_model_function import ReachabilityGNN\n",
    "import torch.nn as nn"
   ]
  },
  {
   "cell_type": "code",
   "execution_count": 2,
   "id": "1bbce7c3",
   "metadata": {},
   "outputs": [],
   "source": [
    "dataset = pd.read_csv(\"../data/reachability_dataset.csv\")"
   ]
  },
  {
   "cell_type": "code",
   "execution_count": 3,
   "id": "3b06eb10",
   "metadata": {},
   "outputs": [],
   "source": [
    "for name in dataset.columns:\n",
    "    dataset[name] = dataset[name].apply(literal_eval)"
   ]
  },
  {
   "cell_type": "code",
   "execution_count": 4,
   "id": "74920ff1",
   "metadata": {},
   "outputs": [],
   "source": [
    "# graph_list: each graph is a training sample\n",
    "graph_list = []\n",
    "\n",
    "for _, row in dataset.iterrows():\n",
    "    labels = generate_labeled_route_no_sides(row[\"route\"], row[\"hands\"], row[\"feet\"], row[\"climber\"])\n",
    "    if labels.count(0) / len(labels) < 0.95:\n",
    "        data = build_graph_reachability(row[\"route\"], row[\"hands\"], row[\"feet\"], row[\"climber\"], labels)\n",
    "        graph_list.append(data)"
   ]
  },
  {
   "cell_type": "code",
   "execution_count": 6,
   "id": "208074ef",
   "metadata": {},
   "outputs": [
    {
     "data": {
      "text/plain": [
       "89898"
      ]
     },
     "execution_count": 6,
     "metadata": {},
     "output_type": "execute_result"
    }
   ],
   "source": [
    "len(graph_list)"
   ]
  },
  {
   "cell_type": "code",
   "execution_count": 7,
   "id": "e2527b21",
   "metadata": {},
   "outputs": [],
   "source": [
    "# Save the graph_list to local\n",
    "torch.save(graph_list, \"graph_list_global.pt\")"
   ]
  },
  {
   "cell_type": "markdown",
   "id": "830a8cd2",
   "metadata": {},
   "source": [
    "# Train the Model"
   ]
  },
  {
   "cell_type": "code",
   "execution_count": 2,
   "id": "2a7b205d",
   "metadata": {},
   "outputs": [
    {
     "name": "stderr",
     "output_type": "stream",
     "text": [
      "C:\\Users\\guanj\\AppData\\Local\\Temp\\ipykernel_11820\\1285557832.py:2: FutureWarning: You are using `torch.load` with `weights_only=False` (the current default value), which uses the default pickle module implicitly. It is possible to construct malicious pickle data which will execute arbitrary code during unpickling (See https://github.com/pytorch/pytorch/blob/main/SECURITY.md#untrusted-models for more details). In a future release, the default value for `weights_only` will be flipped to `True`. This limits the functions that could be executed during unpickling. Arbitrary objects will no longer be allowed to be loaded via this mode unless they are explicitly allowlisted by the user via `torch.serialization.add_safe_globals`. We recommend you start setting `weights_only=True` for any use case where you don't have full control of the loaded file. Please open an issue on GitHub for any issues related to this experimental feature.\n",
      "  graph_list = torch.load(\"graph_list_global.pt\")\n"
     ]
    }
   ],
   "source": [
    "# Load pt file\n",
    "graph_list = torch.load(\"graph_list_global.pt\")"
   ]
  },
  {
   "cell_type": "code",
   "execution_count": 8,
   "id": "b6c60a67",
   "metadata": {},
   "outputs": [
    {
     "name": "stdout",
     "output_type": "stream",
     "text": [
      "Used Weights: tensor([0.3115, 1.8776, 5.0000, 2.1821])\n"
     ]
    }
   ],
   "source": [
    "all_labels = torch.cat([g.y for g in graph_list])\n",
    "counts = Counter(all_labels.tolist())\n",
    "total = sum(counts.values())\n",
    "\n",
    "max_cap = 5\n",
    "weights = [min(np.log(total / (counts.get(i, 1) + 1)), max_cap) for i in range(4)]\n",
    "weights = torch.tensor(weights, dtype=torch.float)\n",
    "\n",
    "print(\"Used Weights:\", weights)"
   ]
  },
  {
   "cell_type": "code",
   "execution_count": 9,
   "id": "cfd35f09",
   "metadata": {},
   "outputs": [
    {
     "name": "stdout",
     "output_type": "stream",
     "text": [
      "Epoch 0, Loss: 6840.6453\n",
      "Epoch 1, Loss: 5669.7139\n",
      "Epoch 2, Loss: 5311.8809\n",
      "Epoch 3, Loss: 5059.2265\n",
      "Epoch 4, Loss: 4906.6935\n",
      "Epoch 5, Loss: 4807.4663\n",
      "Epoch 6, Loss: 4720.6136\n",
      "Epoch 7, Loss: 4652.9888\n",
      "Epoch 8, Loss: 4584.9444\n",
      "Epoch 9, Loss: 4515.4339\n",
      "Epoch 10, Loss: 4464.4576\n",
      "Epoch 11, Loss: 4446.1432\n",
      "Epoch 12, Loss: 4388.8969\n",
      "Epoch 13, Loss: 4371.1154\n",
      "Epoch 14, Loss: 4342.6801\n",
      "Epoch 15, Loss: 4313.9652\n",
      "Epoch 16, Loss: 4281.6265\n",
      "Epoch 17, Loss: 4270.4251\n",
      "Epoch 18, Loss: 4230.9738\n",
      "Epoch 19, Loss: 4235.6031\n",
      "Epoch 20, Loss: 4202.6762\n",
      "Epoch 21, Loss: 4177.9872\n",
      "Epoch 22, Loss: 4170.6156\n",
      "Epoch 23, Loss: 4152.2022\n",
      "Epoch 24, Loss: 4147.4835\n",
      "Epoch 25, Loss: 4147.0774\n",
      "Epoch 26, Loss: 4128.1184\n",
      "Epoch 27, Loss: 4111.0372\n",
      "Epoch 28, Loss: 4093.9138\n",
      "Epoch 29, Loss: 4085.8830\n"
     ]
    }
   ],
   "source": [
    "# shuffle=True: Shuffle the order of the graph at each epoch to enhance the model's generalisation ability.\n",
    "loader = DataLoader(graph_list, batch_size=8, shuffle=True)\n",
    "model = ReachabilityGNN()\n",
    "optimizer = torch.optim.Adam(model.parameters(), lr=1e-3)\n",
    "loss_fn = nn.CrossEntropyLoss(weight=weights)\n",
    "\n",
    "for epoch in range(30):\n",
    "    total_loss = 0\n",
    "    model.train()\n",
    "    for batch in loader:\n",
    "        out = model(batch)\n",
    "        loss = loss_fn(out, batch.y)\n",
    "        optimizer.zero_grad()\n",
    "        loss.backward()\n",
    "        optimizer.step()\n",
    "        total_loss += loss.item()\n",
    "    print(f\"Epoch {epoch}, Loss: {total_loss:.4f}\")"
   ]
  },
  {
   "cell_type": "code",
   "execution_count": 11,
   "id": "a661ac40",
   "metadata": {},
   "outputs": [
    {
     "name": "stdout",
     "output_type": "stream",
     "text": [
      "Distribution of Predictions: Counter({0: 1207, 1: 639, 3: 419, 2: 15})\n"
     ]
    }
   ],
   "source": [
    "from torch_geometric.data import Batch\n",
    "from collections import Counter\n",
    "\n",
    "model.eval()\n",
    "all_preds = []\n",
    "\n",
    "with torch.no_grad():\n",
    "    for g in graph_list[:30]:\n",
    "        batch = Batch.from_data_list([g])     # ✅ 将单图转换为 Batch\n",
    "        out = model(batch)                    # ✅ 可以调用 model.forward(data)\n",
    "        pred = out.argmax(dim=1)\n",
    "        all_preds.extend(pred.tolist())\n",
    "\n",
    "print(\"Distribution of Predictions:\", Counter(all_preds))"
   ]
  },
  {
   "cell_type": "code",
   "execution_count": null,
   "id": "f8a66e5e",
   "metadata": {},
   "outputs": [],
   "source": [
    "model.eval()\n",
    "with torch.no_grad():\n",
    "    preds = []\n",
    "    for g in graph_list[:30]:\n",
    "        p = model(g).argmax(dim=1)\n",
    "        preds.extend(p.tolist())\n",
    "\n",
    "print(\"Distribution of Predictions:\", Counter(preds))"
   ]
  },
  {
   "cell_type": "code",
   "execution_count": 12,
   "id": "b6ed9fdb",
   "metadata": {},
   "outputs": [],
   "source": [
    "torch.save(model.state_dict(),\"reachability_model4.pt\")"
   ]
  },
  {
   "cell_type": "code",
   "execution_count": 13,
   "id": "fec05756",
   "metadata": {},
   "outputs": [
    {
     "name": "stderr",
     "output_type": "stream",
     "text": [
      "C:\\Users\\guanj\\AppData\\Local\\Temp\\ipykernel_19604\\4029515660.py:3: FutureWarning: You are using `torch.load` with `weights_only=False` (the current default value), which uses the default pickle module implicitly. It is possible to construct malicious pickle data which will execute arbitrary code during unpickling (See https://github.com/pytorch/pytorch/blob/main/SECURITY.md#untrusted-models for more details). In a future release, the default value for `weights_only` will be flipped to `True`. This limits the functions that could be executed during unpickling. Arbitrary objects will no longer be allowed to be loaded via this mode unless they are explicitly allowlisted by the user via `torch.serialization.add_safe_globals`. We recommend you start setting `weights_only=True` for any use case where you don't have full control of the loaded file. Please open an issue on GitHub for any issues related to this experimental feature.\n",
      "  model.load_state_dict(torch.load(\"reachability_model4.pt\"))\n"
     ]
    },
    {
     "data": {
      "text/plain": [
       "ReachabilityGNN(\n",
       "  (conv1): GCNConv(6, 64)\n",
       "  (conv2): GCNConv(64, 64)\n",
       "  (climber_embed): Linear(in_features=4, out_features=64, bias=True)\n",
       "  (classifier): Sequential(\n",
       "    (0): Linear(in_features=128, out_features=64, bias=True)\n",
       "    (1): ReLU()\n",
       "    (2): Linear(in_features=64, out_features=4, bias=True)\n",
       "  )\n",
       ")"
      ]
     },
     "execution_count": 13,
     "metadata": {},
     "output_type": "execute_result"
    }
   ],
   "source": [
    "# Load the model\n",
    "model = ReachabilityGNN()\n",
    "model.load_state_dict(torch.load(\"reachability_model4.pt\"))\n",
    "model.eval()"
   ]
  },
  {
   "cell_type": "code",
   "execution_count": 2,
   "id": "f69fef7d",
   "metadata": {},
   "outputs": [
    {
     "name": "stderr",
     "output_type": "stream",
     "text": [
      "C:\\Users\\guanj\\AppData\\Local\\Temp\\ipykernel_14260\\2863085696.py:1: FutureWarning: You are using `torch.load` with `weights_only=False` (the current default value), which uses the default pickle module implicitly. It is possible to construct malicious pickle data which will execute arbitrary code during unpickling (See https://github.com/pytorch/pytorch/blob/main/SECURITY.md#untrusted-models for more details). In a future release, the default value for `weights_only` will be flipped to `True`. This limits the functions that could be executed during unpickling. Arbitrary objects will no longer be allowed to be loaded via this mode unless they are explicitly allowlisted by the user via `torch.serialization.add_safe_globals`. We recommend you start setting `weights_only=True` for any use case where you don't have full control of the loaded file. Please open an issue on GitHub for any issues related to this experimental feature.\n",
      "  graph_list = torch.load(\"graph_list.pt\")\n"
     ]
    }
   ],
   "source": [
    "graph_list = torch.load(\"graph_list.pt\")"
   ]
  },
  {
   "cell_type": "code",
   "execution_count": 22,
   "id": "1330ccf1",
   "metadata": {},
   "outputs": [
    {
     "data": {
      "image/png": "[encoded data removed]",
      "text/plain": [
       "<Figure size 1200x400 with 1 Axes>"
      ]
     },
     "metadata": {},
     "output_type": "display_data"
    }
   ],
   "source": [
    "import matplotlib.pyplot as plt\n",
    "graph = graph_list[2450]\n",
    "batch = Batch.from_data_list([graph])  # ✅ 构造成带 batch 的图\n",
    "\n",
    "with torch.no_grad():\n",
    "    pred_logits = model(batch)\n",
    "    pred_labels = pred_logits.argmax(dim=1)\n",
    "\n",
    "# 转 numpy\n",
    "true = graph.y.cpu().numpy()\n",
    "pred = pred_labels.cpu().numpy()\n",
    "\n",
    "# 绘图\n",
    "plt.figure(figsize=(12, 4))\n",
    "plt.plot(true, label='True', color='green')\n",
    "plt.plot(pred, label='Pred', linestyle='--', color='red')\n",
    "plt.legend()\n",
    "plt.title(\"True vs Predicted Labels\")\n",
    "plt.xlabel(\"Node Index\")\n",
    "plt.ylabel(\"Label\")\n",
    "plt.grid(True)\n",
    "plt.show()"
   ]
  },
  {
   "cell_type": "code",
   "execution_count": 23,
   "id": "cb93a4ca",
   "metadata": {},
   "outputs": [
    {
     "data": {
      "text/plain": [
       "array([0, 0, 0, 0, 0, 0, 0, 0, 0, 0, 0, 0, 0, 0, 0, 0, 1, 0, 1, 1, 1, 1,\n",
       "       1, 1, 1, 1, 1, 1, 3, 3, 1, 3, 1, 3, 3, 1, 1, 1, 1, 1, 1, 1, 3, 3,\n",
       "       1, 1, 1, 1, 1, 1, 1, 1, 1, 1, 1, 1, 1, 1, 1, 1, 0, 0, 0, 0, 0, 1,\n",
       "       0, 0, 1, 1, 0, 0, 1, 1, 1, 0], dtype=int64)"
      ]
     },
     "execution_count": 23,
     "metadata": {},
     "output_type": "execute_result"
    }
   ],
   "source": [
    "pred"
   ]
  }
 ],
 "metadata": {
  "kernelspec": {
   "display_name": "Python 3",
   "language": "python",
   "name": "python3"
  },
  "language_info": {
   "codemirror_mode": {
    "name": "ipython",
    "version": 3
   },
   "file_extension": ".py",
   "mimetype": "text/x-python",
   "name": "python",
   "nbconvert_exporter": "python",
   "pygments_lexer": "ipython3",
   "version": "3.10.9"
  }
 },
 "nbformat": 4,
 "nbformat_minor": 5
}
