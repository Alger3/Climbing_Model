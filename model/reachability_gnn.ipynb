{
 "cells": [
  {
   "cell_type": "markdown",
   "id": "6afe3b8c",
   "metadata": {},
   "source": [
    "# Construct the training data into Data format"
   ]
  },
  {
   "cell_type": "code",
   "execution_count": 1,
   "id": "fe807357",
   "metadata": {},
   "outputs": [],
   "source": [
    "import sys\n",
    "sys.path.append(\"../src\")\n",
    "\n",
    "import torch\n",
    "import pandas as pd\n",
    "from ast import literal_eval\n",
    "from torch_geometric.data import Data\n",
    "from reachability_model_function import build_graph_reachability\n",
    "from dataset_function import generate_labeled_route_no_sides"
   ]
  },
  {
   "cell_type": "code",
   "execution_count": 24,
   "id": "1bbce7c3",
   "metadata": {},
   "outputs": [],
   "source": [
    "dataset = pd.read_csv(\"../data/reachability_dataset.csv\")"
   ]
  },
  {
   "cell_type": "code",
   "execution_count": 25,
   "id": "3b06eb10",
   "metadata": {},
   "outputs": [],
   "source": [
    "for name in dataset.columns:\n",
    "    dataset[name] = dataset[name].apply(literal_eval)"
   ]
  },
  {
   "cell_type": "code",
   "execution_count": null,
   "id": "74920ff1",
   "metadata": {},
   "outputs": [],
   "source": [
    "# graph_list: each graph is a training sample\n",
    "graph_list = []\n",
    "\n",
    "for _, row in dataset.iterrows():\n",
    "    labels = generate_labeled_route_no_sides(row[\"route\"], row[\"hands\"], row[\"feet\"], row[\"climber\"])\n",
    "    data = build_graph_reachability(row[\"route\"], row[\"hands\"], row[\"feet\"], row[\"climber\"], labels)\n",
    "    graph_list.append(data)"
   ]
  },
  {
   "cell_type": "code",
   "execution_count": 37,
   "id": "e2527b21",
   "metadata": {},
   "outputs": [],
   "source": [
    "# Save the graph_list to local\n",
    "torch.save(graph_list, \"graph_list.pt\")"
   ]
  },
  {
   "cell_type": "markdown",
   "id": "830a8cd2",
   "metadata": {},
   "source": [
    "# Train the Model"
   ]
  },
  {
   "cell_type": "code",
   "execution_count": 2,
   "id": "2a7b205d",
   "metadata": {},
   "outputs": [
    {
     "name": "stderr",
     "output_type": "stream",
     "text": [
      "C:\\Users\\guanj\\AppData\\Local\\Temp\\ipykernel_30580\\4218432997.py:2: FutureWarning: You are using `torch.load` with `weights_only=False` (the current default value), which uses the default pickle module implicitly. It is possible to construct malicious pickle data which will execute arbitrary code during unpickling (See https://github.com/pytorch/pytorch/blob/main/SECURITY.md#untrusted-models for more details). In a future release, the default value for `weights_only` will be flipped to `True`. This limits the functions that could be executed during unpickling. Arbitrary objects will no longer be allowed to be loaded via this mode unless they are explicitly allowlisted by the user via `torch.serialization.add_safe_globals`. We recommend you start setting `weights_only=True` for any use case where you don't have full control of the loaded file. Please open an issue on GitHub for any issues related to this experimental feature.\n",
      "  graph_list = torch.load(\"graph_list.pt\")\n"
     ]
    }
   ],
   "source": [
    "# Load pt file\n",
    "graph_list = torch.load(\"graph_list.pt\")"
   ]
  },
  {
   "cell_type": "code",
   "execution_count": 3,
   "id": "cfd35f09",
   "metadata": {},
   "outputs": [
    {
     "name": "stdout",
     "output_type": "stream",
     "text": [
      "Epoch 0, Loss: 10200.2411\n",
      "Epoch 1, Loss: 8529.8699\n",
      "Epoch 2, Loss: 8369.2437\n",
      "Epoch 3, Loss: 8352.5424\n",
      "Epoch 4, Loss: 8339.2210\n",
      "Epoch 5, Loss: 8335.7312\n",
      "Epoch 6, Loss: 8337.0926\n",
      "Epoch 7, Loss: 8331.2692\n",
      "Epoch 8, Loss: 8331.8796\n",
      "Epoch 9, Loss: 8328.4643\n",
      "Epoch 10, Loss: 8329.8843\n",
      "Epoch 11, Loss: 8325.8382\n",
      "Epoch 12, Loss: 8326.3527\n",
      "Epoch 13, Loss: 8325.7759\n",
      "Epoch 14, Loss: 8327.4013\n",
      "Epoch 15, Loss: 8326.0678\n",
      "Epoch 16, Loss: 8325.5547\n",
      "Epoch 17, Loss: 8323.3064\n",
      "Epoch 18, Loss: 8323.7609\n",
      "Epoch 19, Loss: 8321.7250\n",
      "Epoch 20, Loss: 8325.9250\n",
      "Epoch 21, Loss: 8322.0709\n",
      "Epoch 22, Loss: 8321.8647\n",
      "Epoch 23, Loss: 8326.3309\n",
      "Epoch 24, Loss: 8322.4069\n",
      "Epoch 25, Loss: 8323.5809\n",
      "Epoch 26, Loss: 8319.9038\n",
      "Epoch 27, Loss: 8319.8520\n",
      "Epoch 28, Loss: 8320.8607\n",
      "Epoch 29, Loss: 8320.0152\n"
     ]
    }
   ],
   "source": [
    "from torch_geometric.loader import DataLoader\n",
    "from reachability_model_function import ReachabilityGNN\n",
    "import torch.nn as nn\n",
    "\n",
    "# shuffle=True: Shuffle the order of the graph at each epoch to enhance the model's generalisation ability.\n",
    "loader = DataLoader(graph_list, batch_size=8, shuffle=True)\n",
    "model = ReachabilityGNN()\n",
    "optimizer = torch.optim.Adam(model.parameters(), lr=1e-3)\n",
    "loss_fn = nn.CrossEntropyLoss()\n",
    "\n",
    "for epoch in range(30):\n",
    "    total_loss = 0\n",
    "    model.train()\n",
    "    for batch in loader:\n",
    "        out = model(batch)\n",
    "        loss = loss_fn(out, batch.y)\n",
    "        optimizer.zero_grad()\n",
    "        loss.backward()\n",
    "        optimizer.step()\n",
    "        total_loss += loss.item()\n",
    "    print(f\"Epoch {epoch}, Loss: {total_loss:.4f}\")"
   ]
  },
  {
   "cell_type": "code",
   "execution_count": 4,
   "id": "b6ed9fdb",
   "metadata": {},
   "outputs": [],
   "source": [
    "torch.save(model.state_dict(),\"reachability_model.pt\")"
   ]
  }
 ],
 "metadata": {
  "kernelspec": {
   "display_name": "Python 3",
   "language": "python",
   "name": "python3"
  },
  "language_info": {
   "codemirror_mode": {
    "name": "ipython",
    "version": 3
   },
   "file_extension": ".py",
   "mimetype": "text/x-python",
   "name": "python",
   "nbconvert_exporter": "python",
   "pygments_lexer": "ipython3",
   "version": "3.10.9"
  }
 },
 "nbformat": 4,
 "nbformat_minor": 5
}
