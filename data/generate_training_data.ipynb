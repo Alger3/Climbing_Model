{
 "cells": [
  {
   "cell_type": "markdown",
   "id": "4dd6ec4d",
   "metadata": {},
   "source": [
    "# Generate the training data (wall + climber + pos)\n",
    "- Wall: 15 different walls\n",
    "- Climber: 300 climbers divided into casual, skilled, elite\n",
    "- Pos: current position (hands position and feet position)"
   ]
  },
  {
   "cell_type": "code",
   "execution_count": 4,
   "id": "27a882ee",
   "metadata": {},
   "outputs": [],
   "source": [
    "import pandas as pd\n",
    "\n",
    "# Load the files\n",
    "walls = pd.read_csv(\"climbing_data.csv\")\n",
    "climbers = pd.read_csv(\"all_climbers.csv\")"
   ]
  },
  {
   "cell_type": "code",
   "execution_count": 5,
   "id": "8e411eba",
   "metadata": {},
   "outputs": [],
   "source": [
    "climbers = climbers.drop(columns=[\"Unnamed: 0\"])"
   ]
  },
  {
   "cell_type": "code",
   "execution_count": 7,
   "id": "f3259072",
   "metadata": {},
   "outputs": [],
   "source": [
    "from ast import literal_eval\n",
    "walls[\"points\"] = walls[\"points\"].apply(literal_eval)"
   ]
  },
  {
   "cell_type": "code",
   "execution_count": 8,
   "id": "9e3be54d",
   "metadata": {},
   "outputs": [],
   "source": [
    "import sys\n",
    "sys.path.append(\"../src\")\n",
    "\n",
    "from dataset_function import sample_grap_points_by_radius\n",
    "# Generate the Training Data\n",
    "times = 20\n",
    "data = {\n",
    "    \"route\": [],\n",
    "    \"climber\": [],\n",
    "    \"hands\": [],\n",
    "    \"feet\": []\n",
    "}\n",
    "\n",
    "for w in walls[\"points\"]:\n",
    "    for _, c in climbers.iterrows():\n",
    "        for n in range(times):\n",
    "            hands, feet, center = sample_grap_points_by_radius(route=w,\n",
    "                                                               climber=c,\n",
    "                                                               max_trials=100)\n",
    "            data[\"route\"].append(w)\n",
    "            data[\"climber\"].append({\"group\": c[\"group\"],\n",
    "                                    \"height\": c[\"height\"],\n",
    "                                    \"weight\": c[\"weight\"],\n",
    "                                    \"ape_index\": c[\"ape_index\"],\n",
    "                                    \"strength\": c[\"strength\"],\n",
    "                                    \"flexibility\": c[\"flexibility\"],\n",
    "                                    \"leg_len_factor\": c[\"leg_len_factor\"]})\n",
    "            data[\"hands\"].append(hands)\n",
    "            data[\"feet\"].append(feet)"
   ]
  },
  {
   "cell_type": "code",
   "execution_count": 10,
   "id": "d7fc28b6",
   "metadata": {},
   "outputs": [],
   "source": [
    "df = pd.DataFrame(data)"
   ]
  },
  {
   "cell_type": "code",
   "execution_count": null,
   "id": "a06c48aa",
   "metadata": {},
   "outputs": [],
   "source": [
    "df.to_csv(\"reachability_dataset.csv\", index=False)"
   ]
  },
  {
   "cell_type": "markdown",
   "id": "4f6b6df1",
   "metadata": {},
   "source": [
    "# Generate the training data (wall + climber + wall features + pos) (for Reachability Model with Holds features)"
   ]
  },
  {
   "cell_type": "code",
   "execution_count": null,
   "id": "abdb39ad",
   "metadata": {},
   "outputs": [],
   "source": [
    "# TODO: Create the correct training data: wall + climber + hands + feet + holds_features\n",
    "\"\"\"\n",
    "wall: 一面墙的全部抓点（中心坐标）\n",
    "climber: 攀岩者的属性\n",
    "hands: 目前手的抓点坐标\n",
    "feet: 目前脚的抓点坐标\n",
    "holds_features: 该墙每一个抓点的属性 e.g. [{'center_x': 1, 'center_y': 2, 'shape_area':...},{},{}]\n",
    "\"\"\""
   ]
  },
  {
   "cell_type": "code",
   "execution_count": 21,
   "id": "9bcaea38",
   "metadata": {},
   "outputs": [],
   "source": [
    "import pandas as pd\n",
    "import numpy as np\n",
    "from itertools import product\n",
    "from sklearn.neighbors import NearestNeighbors\n",
    "import torch\n",
    "from torch_geometric.data import Data\n",
    "import sys\n",
    "sys.path.append(\"../src\")\n",
    "from dataset_function import sample_hand_foot_points\n",
    "from dataset_function import get_reachability_label_with_shape"
   ]
  },
  {
   "cell_type": "code",
   "execution_count": 22,
   "id": "354dc919",
   "metadata": {},
   "outputs": [],
   "source": [
    "walls_with_features = pd.read_csv(\"climbing_with_shape_features.csv\")\n",
    "climbers = pd.read_csv(\"all_climbers.csv\").drop(columns=[\"Unnamed: 0\"])"
   ]
  },
  {
   "cell_type": "code",
   "execution_count": null,
   "id": "dce42ffe",
   "metadata": {},
   "outputs": [
    {
     "data": {
      "text/html": [
       "<div>\n",
       "<style scoped>\n",
       "    .dataframe tbody tr th:only-of-type {\n",
       "        vertical-align: middle;\n",
       "    }\n",
       "\n",
       "    .dataframe tbody tr th {\n",
       "        vertical-align: top;\n",
       "    }\n",
       "\n",
       "    .dataframe thead th {\n",
       "        text-align: right;\n",
       "    }\n",
       "</style>\n",
       "<table border=\"1\" class=\"dataframe\">\n",
       "  <thead>\n",
       "    <tr style=\"text-align: right;\">\n",
       "      <th></th>\n",
       "      <th>filename</th>\n",
       "      <th>center_x</th>\n",
       "      <th>center_y</th>\n",
       "      <th>shape_area</th>\n",
       "      <th>shape_perimeter</th>\n",
       "      <th>shape_aspect_ratio</th>\n",
       "      <th>shape_circularity</th>\n",
       "    </tr>\n",
       "  </thead>\n",
       "  <tbody>\n",
       "    <tr>\n",
       "      <th>0</th>\n",
       "      <td>0000.jpg</td>\n",
       "      <td>898.200000</td>\n",
       "      <td>1115.866667</td>\n",
       "      <td>8463.0</td>\n",
       "      <td>350.548866</td>\n",
       "      <td>0.790698</td>\n",
       "      <td>0.865440</td>\n",
       "    </tr>\n",
       "    <tr>\n",
       "      <th>1</th>\n",
       "      <td>0000.jpg</td>\n",
       "      <td>2064.250000</td>\n",
       "      <td>200.500000</td>\n",
       "      <td>35619.5</td>\n",
       "      <td>698.205728</td>\n",
       "      <td>0.836066</td>\n",
       "      <td>0.918186</td>\n",
       "    </tr>\n",
       "    <tr>\n",
       "      <th>2</th>\n",
       "      <td>0000.jpg</td>\n",
       "      <td>2383.750000</td>\n",
       "      <td>1556.250000</td>\n",
       "      <td>5830.0</td>\n",
       "      <td>296.728826</td>\n",
       "      <td>1.207317</td>\n",
       "      <td>0.832068</td>\n",
       "    </tr>\n",
       "    <tr>\n",
       "      <th>3</th>\n",
       "      <td>0000.jpg</td>\n",
       "      <td>919.846154</td>\n",
       "      <td>1739.923077</td>\n",
       "      <td>2008.0</td>\n",
       "      <td>166.220468</td>\n",
       "      <td>0.827586</td>\n",
       "      <td>0.913281</td>\n",
       "    </tr>\n",
       "    <tr>\n",
       "      <th>4</th>\n",
       "      <td>0000.jpg</td>\n",
       "      <td>713.807692</td>\n",
       "      <td>369.730769</td>\n",
       "      <td>15616.0</td>\n",
       "      <td>561.903101</td>\n",
       "      <td>1.321918</td>\n",
       "      <td>0.621522</td>\n",
       "    </tr>\n",
       "    <tr>\n",
       "      <th>...</th>\n",
       "      <td>...</td>\n",
       "      <td>...</td>\n",
       "      <td>...</td>\n",
       "      <td>...</td>\n",
       "      <td>...</td>\n",
       "      <td>...</td>\n",
       "      <td>...</td>\n",
       "    </tr>\n",
       "    <tr>\n",
       "      <th>1482</th>\n",
       "      <td>1037.jpg</td>\n",
       "      <td>2487.421053</td>\n",
       "      <td>230.526316</td>\n",
       "      <td>5617.5</td>\n",
       "      <td>304.220222</td>\n",
       "      <td>1.120879</td>\n",
       "      <td>0.762740</td>\n",
       "    </tr>\n",
       "    <tr>\n",
       "      <th>1483</th>\n",
       "      <td>1037.jpg</td>\n",
       "      <td>2501.238095</td>\n",
       "      <td>44.285714</td>\n",
       "      <td>5185.0</td>\n",
       "      <td>279.747596</td>\n",
       "      <td>1.197531</td>\n",
       "      <td>0.832580</td>\n",
       "    </tr>\n",
       "    <tr>\n",
       "      <th>1484</th>\n",
       "      <td>1037.jpg</td>\n",
       "      <td>1799.444444</td>\n",
       "      <td>482.333333</td>\n",
       "      <td>9680.5</td>\n",
       "      <td>358.154237</td>\n",
       "      <td>0.744186</td>\n",
       "      <td>0.948347</td>\n",
       "    </tr>\n",
       "    <tr>\n",
       "      <th>1485</th>\n",
       "      <td>1037.jpg</td>\n",
       "      <td>2675.636364</td>\n",
       "      <td>142.909091</td>\n",
       "      <td>42090.0</td>\n",
       "      <td>822.913427</td>\n",
       "      <td>0.820000</td>\n",
       "      <td>0.781053</td>\n",
       "    </tr>\n",
       "    <tr>\n",
       "      <th>1486</th>\n",
       "      <td>1037.jpg</td>\n",
       "      <td>608.454545</td>\n",
       "      <td>1229.181818</td>\n",
       "      <td>73507.5</td>\n",
       "      <td>1214.270968</td>\n",
       "      <td>1.924528</td>\n",
       "      <td>0.626484</td>\n",
       "    </tr>\n",
       "  </tbody>\n",
       "</table>\n",
       "<p>1487 rows × 7 columns</p>\n",
       "</div>"
      ],
      "text/plain": [
       "      filename     center_x     center_y  shape_area  shape_perimeter  \\\n",
       "0     0000.jpg   898.200000  1115.866667      8463.0       350.548866   \n",
       "1     0000.jpg  2064.250000   200.500000     35619.5       698.205728   \n",
       "2     0000.jpg  2383.750000  1556.250000      5830.0       296.728826   \n",
       "3     0000.jpg   919.846154  1739.923077      2008.0       166.220468   \n",
       "4     0000.jpg   713.807692   369.730769     15616.0       561.903101   \n",
       "...        ...          ...          ...         ...              ...   \n",
       "1482  1037.jpg  2487.421053   230.526316      5617.5       304.220222   \n",
       "1483  1037.jpg  2501.238095    44.285714      5185.0       279.747596   \n",
       "1484  1037.jpg  1799.444444   482.333333      9680.5       358.154237   \n",
       "1485  1037.jpg  2675.636364   142.909091     42090.0       822.913427   \n",
       "1486  1037.jpg   608.454545  1229.181818     73507.5      1214.270968   \n",
       "\n",
       "      shape_aspect_ratio  shape_circularity  \n",
       "0               0.790698           0.865440  \n",
       "1               0.836066           0.918186  \n",
       "2               1.207317           0.832068  \n",
       "3               0.827586           0.913281  \n",
       "4               1.321918           0.621522  \n",
       "...                  ...                ...  \n",
       "1482            1.120879           0.762740  \n",
       "1483            1.197531           0.832580  \n",
       "1484            0.744186           0.948347  \n",
       "1485            0.820000           0.781053  \n",
       "1486            1.924528           0.626484  \n",
       "\n",
       "[1487 rows x 7 columns]"
      ]
     },
     "execution_count": 30,
     "metadata": {},
     "output_type": "execute_result"
    }
   ],
   "source": [
    "walls_with_features"
   ]
  },
  {
   "cell_type": "code",
   "execution_count": 24,
   "id": "a01ed1d8",
   "metadata": {},
   "outputs": [],
   "source": [
    "unique_walls = walls_with_features[\"filename\"].unique()\n",
    "wall_climber_pairs = [\n",
    "    (filename, idx, climbers.loc[idx, \"group\"])\n",
    "    for filename, idx in product(unique_walls, climbers.index)\n",
    "]"
   ]
  },
  {
   "cell_type": "code",
   "execution_count": 25,
   "id": "2374c61a",
   "metadata": {},
   "outputs": [],
   "source": [
    "graph_list = []\n",
    "times = 20\n",
    "\n",
    "for filename, group in walls_with_features.groupby(\"filename\"):\n",
    "    group = group.dropna(subset=[\"center_x\", \"center_y\"])\n",
    "    # Filter out the holds of wall that less than 6\n",
    "    if len(group) < 6:\n",
    "        continue\n",
    "\n",
    "    route_points = group.to_dict(orient='records')\n",
    "\n",
    "    for _, climber in climbers.iterrows():\n",
    "        for n in range(times):\n",
    "            hands, feet = sample_hand_foot_points(route_points, climber)\n",
    "            if hands is None or feet is None:\n",
    "                continue\n",
    "        \n",
    "            node_feats = []\n",
    "            labels = []\n",
    "\n",
    "            for p in route_points:\n",
    "                node_feats.append([\n",
    "                    p[\"center_x\"],\n",
    "                    p[\"center_y\"],\n",
    "                    p.get(\"shape_area\", 0),\n",
    "                    p.get(\"shape_perimeter\"),\n",
    "                    p.get(\"shape_aspect_ratio\", 0),\n",
    "                    p.get(\"shape_circularity\", 0)\n",
    "                ])\n",
    "                labels.append(get_reachability_label_with_shape(p, hands, feet, climber))\n",
    "            \n",
    "            label_array = np.array(labels)\n",
    "            zero_ratio = np.mean(label_array == 0)\n",
    "            if zero_ratio > 0.95:\n",
    "                continue\n",
    "\n",
    "            x = torch.tensor(node_feats, dtype=torch.float)\n",
    "            y = torch.tensor(labels, dtype=torch.long)\n",
    "\n",
    "            # Edge construction via KNN\n",
    "            pos = np.array([[p[\"center_x\"], p[\"center_y\"]] for p in route_points])\n",
    "            nbrs = NearestNeighbors(n_neighbors=min(8, len(pos))).fit(pos)\n",
    "            _, indices = nbrs.kneighbors(pos)\n",
    "\n",
    "            edge_index = []\n",
    "            for i, neigh in enumerate(indices):\n",
    "                for j in neigh:\n",
    "                    if i != j:\n",
    "                        edge_index.append([i, j])\n",
    "            edge_index = torch.tensor(edge_index, dtype=torch.long).T\n",
    "\n",
    "            climber_feat = torch.tensor([\n",
    "                climber[\"height\"], climber[\"ape_index\"], climber[\"weight\"],\n",
    "                climber[\"flexibility\"], climber[\"leg_len_factor\"], climber[\"strength\"]\n",
    "            ], dtype=torch.float).unsqueeze(0)\n",
    "\n",
    "            graph = Data(x=x, edge_index=edge_index, y=y, climber=climber_feat)\n",
    "\n",
    "            graph.hands = torch.tensor(hands, dtype=torch.float)\n",
    "            graph.feet = torch.tensor(feet, dtype=torch.float)\n",
    "\n",
    "            graph_list.append(graph)"
   ]
  },
  {
   "cell_type": "code",
   "execution_count": 26,
   "id": "04fd7910",
   "metadata": {},
   "outputs": [
    {
     "data": {
      "text/plain": [
       "89616"
      ]
     },
     "execution_count": 26,
     "metadata": {},
     "output_type": "execute_result"
    }
   ],
   "source": [
    "len(graph_list)"
   ]
  },
  {
   "cell_type": "code",
   "execution_count": 28,
   "id": "c46af5b5",
   "metadata": {},
   "outputs": [
    {
     "data": {
      "text/plain": [
       "Data(x=[76, 6], edge_index=[2, 532], y=[76], climber=[1, 6], hands=[2, 2], feet=[2, 2])"
      ]
     },
     "execution_count": 28,
     "metadata": {},
     "output_type": "execute_result"
    }
   ],
   "source": [
    "graph_list[0]"
   ]
  },
  {
   "cell_type": "code",
   "execution_count": 29,
   "id": "1ad50ba9",
   "metadata": {},
   "outputs": [],
   "source": [
    "torch.save(graph_list, \"graph_list_holds_features.pt\")"
   ]
  }
 ],
 "metadata": {
  "kernelspec": {
   "display_name": "Python 3",
   "language": "python",
   "name": "python3"
  },
  "language_info": {
   "codemirror_mode": {
    "name": "ipython",
    "version": 3
   },
   "file_extension": ".py",
   "mimetype": "text/x-python",
   "name": "python",
   "nbconvert_exporter": "python",
   "pygments_lexer": "ipython3",
   "version": "3.10.9"
  }
 },
 "nbformat": 4,
 "nbformat_minor": 5
}
