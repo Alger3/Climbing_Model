{
 "cells": [
  {
   "cell_type": "markdown",
   "id": "4dd6ec4d",
   "metadata": {},
   "source": [
    "# Generate the training data (wall + climber + pos)\n",
    "- Wall: 15 different walls\n",
    "- Climber: 300 climbers divided into casual, skilled, elite\n",
    "- Pos: current position (hands position and feet position)"
   ]
  },
  {
   "cell_type": "code",
   "execution_count": 7,
   "id": "27a882ee",
   "metadata": {},
   "outputs": [],
   "source": [
    "import pandas as pd\n",
    "\n",
    "# Load the files\n",
    "walls = pd.read_csv(\"climbing_data.csv\")\n",
    "climbers = pd.read_csv(\"all_climbers.csv\")"
   ]
  },
  {
   "cell_type": "code",
   "execution_count": 5,
   "id": "8e411eba",
   "metadata": {},
   "outputs": [],
   "source": [
    "climbers = climbers.drop(columns=[\"Unnamed: 0\"])"
   ]
  },
  {
   "cell_type": "code",
   "execution_count": 7,
   "id": "f3259072",
   "metadata": {},
   "outputs": [],
   "source": [
    "from ast import literal_eval\n",
    "walls[\"points\"] = walls[\"points\"].apply(literal_eval)"
   ]
  },
  {
   "cell_type": "code",
   "execution_count": 8,
   "id": "9e3be54d",
   "metadata": {},
   "outputs": [],
   "source": [
    "import sys\n",
    "sys.path.append(\"../src\")\n",
    "\n",
    "from dataset_function import sample_grap_points_by_radius\n",
    "# Generate the Training Data\n",
    "times = 20\n",
    "data = {\n",
    "    \"route\": [],\n",
    "    \"climber\": [],\n",
    "    \"hands\": [],\n",
    "    \"feet\": []\n",
    "}\n",
    "\n",
    "for w in walls[\"points\"]:\n",
    "    for _, c in climbers.iterrows():\n",
    "        for n in range(times):\n",
    "            hands, feet, center = sample_grap_points_by_radius(route=w,\n",
    "                                                               climber=c,\n",
    "                                                               max_trials=100)\n",
    "            data[\"route\"].append(w)\n",
    "            data[\"climber\"].append({\"group\": c[\"group\"],\n",
    "                                    \"height\": c[\"height\"],\n",
    "                                    \"weight\": c[\"weight\"],\n",
    "                                    \"ape_index\": c[\"ape_index\"],\n",
    "                                    \"strength\": c[\"strength\"],\n",
    "                                    \"flexibility\": c[\"flexibility\"],\n",
    "                                    \"leg_len_factor\": c[\"leg_len_factor\"]})\n",
    "            data[\"hands\"].append(hands)\n",
    "            data[\"feet\"].append(feet)"
   ]
  },
  {
   "cell_type": "code",
   "execution_count": 10,
   "id": "d7fc28b6",
   "metadata": {},
   "outputs": [],
   "source": [
    "df = pd.DataFrame(data)"
   ]
  },
  {
   "cell_type": "code",
   "execution_count": null,
   "id": "a06c48aa",
   "metadata": {},
   "outputs": [],
   "source": [
    "df.to_csv(\"reachability_dataset.csv\", index=False)"
   ]
  },
  {
   "cell_type": "markdown",
   "id": "4f6b6df1",
   "metadata": {},
   "source": [
    "# Generate the training data (wall + climber + wall features + pos) (for Reachability Model with Holds features)"
   ]
  },
  {
   "cell_type": "code",
   "execution_count": null,
   "id": "abdb39ad",
   "metadata": {},
   "outputs": [],
   "source": [
    "# TODO: Create the correct training data: wall + climber + hands + feet + holds_features\n",
    "\"\"\"\n",
    "wall: 一面墙的全部抓点（中心坐标）\n",
    "climber: 攀岩者的属性\n",
    "hands: 目前手的抓点坐标\n",
    "feet: 目前脚的抓点坐标\n",
    "holds_features: 该墙每一个抓点的属性 e.g. [{'center_x': 1, 'center_y': 2, 'shape_area':...},{},{}]\n",
    "\"\"\""
   ]
  },
  {
   "cell_type": "code",
   "execution_count": 1,
   "id": "9bcaea38",
   "metadata": {},
   "outputs": [],
   "source": [
    "import pandas as pd\n",
    "import numpy as np\n",
    "from itertools import product\n",
    "from sklearn.neighbors import NearestNeighbors\n",
    "import torch\n",
    "from torch_geometric.data import Data\n",
    "import sys\n",
    "sys.path.append(\"../src\")\n",
    "from ast import literal_eval"
   ]
  },
  {
   "cell_type": "code",
   "execution_count": 2,
   "id": "354dc919",
   "metadata": {},
   "outputs": [],
   "source": [
    "walls_with_features = pd.read_csv(\"climbing_with_shape_features.csv\")\n",
    "climbers = pd.read_csv(\"all_climbers.csv\").drop(columns=[\"Unnamed: 0\"])\n",
    "walls = pd.read_csv(\"climbing_data.csv\").drop(columns=[\"Unnamed: 0\"])\n",
    "walls[\"points\"] = walls[\"points\"].apply(literal_eval)"
   ]
  },
  {
   "cell_type": "code",
   "execution_count": 82,
   "id": "cfdd9b25",
   "metadata": {},
   "outputs": [],
   "source": [
    "shape_cols = [\n",
    "    \"center_x\", \"center_y\", \n",
    "    \"shape_area\", \"shape_perimeter\", \n",
    "    \"shape_aspect_ratio\", \"shape_circularity\"\n",
    "]\n",
    "\n",
    "grouped = walls_with_features.groupby(\"filename\")\n",
    "\n",
    "combined_rows = []\n",
    "for name, group in grouped:\n",
    "    group = group.reset_index(drop=True)\n",
    "    route = list(zip(group[\"center_x\"], group[\"center_y\"]))\n",
    "\n",
    "    holds = [\n",
    "        {col: row[col] for col in shape_cols}\n",
    "        for i, row in group.iterrows()\n",
    "    ]\n",
    "\n",
    "    combined_rows.append({\n",
    "        \"name\": name,\n",
    "        \"route\": route,\n",
    "        \"holds_features\": holds\n",
    "    })\n",
    "\n",
    "combined_df = pd.DataFrame(combined_rows)"
   ]
  },
  {
   "cell_type": "code",
   "execution_count": 83,
   "id": "42bb8fff",
   "metadata": {},
   "outputs": [],
   "source": [
    "import sys\n",
    "sys.path.append(\"../src\")\n",
    "\n",
    "from dataset_function import sample_grap_points_by_radius\n",
    "# Generate the Training Data\n",
    "times = 20\n",
    "data = {\n",
    "    \"route\": [],\n",
    "    \"climber\": [],\n",
    "    \"hands\": [],\n",
    "    \"feet\": [],\n",
    "    \"holds_features\": []\n",
    "}\n",
    "\n",
    "for _, w in combined_df.iterrows():\n",
    "    for _, c in climbers.iterrows():\n",
    "        for n in range(times):\n",
    "            hands, feet, center = sample_grap_points_by_radius(route=w[\"route\"],\n",
    "                                                               climber=c,\n",
    "                                                               max_trials=100)\n",
    "            data[\"route\"].append(w[\"route\"])\n",
    "            data[\"holds_features\"].append(w[\"holds_features\"])\n",
    "            data[\"climber\"].append({\"group\": c[\"group\"],\n",
    "                                    \"height\": c[\"height\"],\n",
    "                                    \"weight\": c[\"weight\"],\n",
    "                                    \"ape_index\": c[\"ape_index\"],\n",
    "                                    \"strength\": c[\"strength\"],\n",
    "                                    \"flexibility\": c[\"flexibility\"],\n",
    "                                    \"leg_len_factor\": c[\"leg_len_factor\"]})\n",
    "            data[\"hands\"].append(hands)\n",
    "            data[\"feet\"].append(feet)"
   ]
  },
  {
   "cell_type": "code",
   "execution_count": 84,
   "id": "fa66408c",
   "metadata": {},
   "outputs": [],
   "source": [
    "df = pd.DataFrame(data)"
   ]
  },
  {
   "cell_type": "code",
   "execution_count": 86,
   "id": "0310656b",
   "metadata": {},
   "outputs": [],
   "source": [
    "df.to_csv(\"reachability_features_dataset.csv\", index=False)"
   ]
  },
  {
   "cell_type": "markdown",
   "id": "30340017",
   "metadata": {},
   "source": [
    "# Convert the Reachability features dataset to Graph for model training"
   ]
  },
  {
   "cell_type": "code",
   "execution_count": 1,
   "id": "ef7ec1c5",
   "metadata": {},
   "outputs": [],
   "source": [
    "import pandas as pd\n",
    "import numpy as np\n",
    "from itertools import product\n",
    "from sklearn.neighbors import NearestNeighbors\n",
    "import torch\n",
    "from torch_geometric.data import Data\n",
    "import sys\n",
    "sys.path.append(\"../src\")\n",
    "from ast import literal_eval\n",
    "from reachability_model_holds_features_function import build_graph_reachability_features\n",
    "from dataset_function import get_reachability_features_label"
   ]
  },
  {
   "cell_type": "code",
   "execution_count": 2,
   "id": "23df5343",
   "metadata": {},
   "outputs": [],
   "source": [
    "dataset = pd.read_csv(\"reachability_features_dataset.csv\")"
   ]
  },
  {
   "cell_type": "code",
   "execution_count": 3,
   "id": "e9991de5",
   "metadata": {},
   "outputs": [],
   "source": [
    "for name in dataset.columns:\n",
    "    dataset[name] = dataset[name].apply(literal_eval)"
   ]
  },
  {
   "cell_type": "code",
   "execution_count": 4,
   "id": "52eea8e7",
   "metadata": {},
   "outputs": [],
   "source": [
    "graph_list = []\n",
    "\n",
    "for _, row in dataset.iterrows():\n",
    "    labels = get_reachability_features_label(row[\"route\"],\n",
    "                                             row[\"climber\"],\n",
    "                                             row[\"hands\"],\n",
    "                                             row[\"feet\"],\n",
    "                                             row[\"holds_features\"]\n",
    "                                             )\n",
    "    if labels.count(0) / len(labels) < 0.95:\n",
    "        data = build_graph_reachability_features(row[\"route\"],\n",
    "                                                 row[\"hands\"],\n",
    "                                                 row[\"feet\"],\n",
    "                                                 row[\"climber\"],\n",
    "                                                 row[\"holds_features\"],\n",
    "                                                 labels\n",
    "                                                 )\n",
    "        graph_list.append(data)"
   ]
  },
  {
   "cell_type": "code",
   "execution_count": 5,
   "id": "f1d8b301",
   "metadata": {},
   "outputs": [
    {
     "data": {
      "text/plain": [
       "31359"
      ]
     },
     "execution_count": 5,
     "metadata": {},
     "output_type": "execute_result"
    }
   ],
   "source": [
    "len(graph_list)"
   ]
  },
  {
   "cell_type": "code",
   "execution_count": 6,
   "id": "e073f429",
   "metadata": {},
   "outputs": [],
   "source": [
    "torch.save(graph_list, \"graph_list_holds_features_edgesF.pt\")"
   ]
  }
 ],
 "metadata": {
  "kernelspec": {
   "display_name": "Python 3",
   "language": "python",
   "name": "python3"
  },
  "language_info": {
   "codemirror_mode": {
    "name": "ipython",
    "version": 3
   },
   "file_extension": ".py",
   "mimetype": "text/x-python",
   "name": "python",
   "nbconvert_exporter": "python",
   "pygments_lexer": "ipython3",
   "version": "3.10.9"
  }
 },
 "nbformat": 4,
 "nbformat_minor": 5
}
