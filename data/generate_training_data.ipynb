{
 "cells": [
  {
   "cell_type": "markdown",
   "id": "4dd6ec4d",
   "metadata": {},
   "source": [
    "# Generate the training data (wall + climber + pos)\n",
    "- Wall: 15 different walls\n",
    "- Climber: 300 climbers divided into casual, skilled, elite\n",
    "- Pos: current position (hands position and feet position)"
   ]
  },
  {
   "cell_type": "code",
   "execution_count": 53,
   "id": "27a882ee",
   "metadata": {},
   "outputs": [],
   "source": [
    "import pandas as pd\n",
    "\n",
    "# Load the files\n",
    "walls = pd.read_csv(\"climbing_data.csv\")\n",
    "climbers = pd.read_csv(\"all_climbers.csv\")"
   ]
  },
  {
   "cell_type": "code",
   "execution_count": 54,
   "id": "8e411eba",
   "metadata": {},
   "outputs": [],
   "source": [
    "climbers = climbers.drop(columns=[\"Unnamed: 0\"])"
   ]
  },
  {
   "cell_type": "code",
   "execution_count": 55,
   "id": "f3259072",
   "metadata": {},
   "outputs": [],
   "source": [
    "from ast import literal_eval\n",
    "walls[\"points\"] = walls[\"points\"].apply(literal_eval)"
   ]
  },
  {
   "cell_type": "code",
   "execution_count": 56,
   "id": "9e3be54d",
   "metadata": {},
   "outputs": [],
   "source": [
    "import sys\n",
    "sys.path.append(\"../src\")\n",
    "\n",
    "from dataset_function import sample_grap_points_by_radius\n",
    "# Generate the Training Data\n",
    "times = 20\n",
    "data = {\n",
    "    \"route\": [],\n",
    "    \"climber\": [],\n",
    "    \"hands\": [],\n",
    "    \"feet\": []\n",
    "}\n",
    "\n",
    "for w in walls[\"points\"]:\n",
    "    for _, c in climbers.iterrows():\n",
    "        for n in range(times):\n",
    "            hands, feet, center = sample_grap_points_by_radius(route=w,\n",
    "                                                               climber=c,\n",
    "                                                               max_trials=100)\n",
    "            data[\"route\"].append(w)\n",
    "            data[\"climber\"].append({\"group\": c[\"group\"],\n",
    "                                    \"height\": c[\"height\"],\n",
    "                                    \"weight\": c[\"weight\"],\n",
    "                                    \"ape_index\": c[\"ape_index\"],\n",
    "                                    \"strength\": c[\"strength\"],\n",
    "                                    \"flexibility\": c[\"flexibility\"],\n",
    "                                    \"leg_len_factor\": c[\"leg_len_factor\"]})\n",
    "            data[\"hands\"].append(hands)\n",
    "            data[\"feet\"].append(feet)"
   ]
  },
  {
   "cell_type": "code",
   "execution_count": 57,
   "id": "d7fc28b6",
   "metadata": {},
   "outputs": [],
   "source": [
    "df = pd.DataFrame(data)"
   ]
  },
  {
   "cell_type": "code",
   "execution_count": null,
   "id": "a06c48aa",
   "metadata": {},
   "outputs": [],
   "source": [
    "df.to_csv(\"reachability_dataset.csv\", index=False)"
   ]
  },
  {
   "cell_type": "markdown",
   "id": "4f6b6df1",
   "metadata": {},
   "source": [
    "# Generate the training data (wall + climber + wall features + pos) (for Reachability Model with Holds features)"
   ]
  },
  {
   "cell_type": "code",
   "execution_count": 1,
   "id": "9bcaea38",
   "metadata": {},
   "outputs": [],
   "source": [
    "import pandas as pd\n",
    "import numpy as np\n",
    "from itertools import product\n",
    "from sklearn.neighbors import NearestNeighbors\n",
    "import torch\n",
    "from torch_geometric.data import Data\n",
    "import sys\n",
    "sys.path.append(\"../src\")\n",
    "from dataset_function import sample_hand_foot_points\n",
    "from dataset_function import get_reachability_label_with_shape"
   ]
  },
  {
   "cell_type": "code",
   "execution_count": 2,
   "id": "354dc919",
   "metadata": {},
   "outputs": [],
   "source": [
    "walls_with_features = pd.read_csv(\"climbing_with_shape_features.csv\")\n",
    "climbers = pd.read_csv(\"all_climbers.csv\").drop(columns=[\"Unnamed: 0\"])"
   ]
  },
  {
   "cell_type": "code",
   "execution_count": 3,
   "id": "2d5ece99",
   "metadata": {},
   "outputs": [
    {
     "data": {
      "text/html": [
       "<div>\n",
       "<style scoped>\n",
       "    .dataframe tbody tr th:only-of-type {\n",
       "        vertical-align: middle;\n",
       "    }\n",
       "\n",
       "    .dataframe tbody tr th {\n",
       "        vertical-align: top;\n",
       "    }\n",
       "\n",
       "    .dataframe thead th {\n",
       "        text-align: right;\n",
       "    }\n",
       "</style>\n",
       "<table border=\"1\" class=\"dataframe\">\n",
       "  <thead>\n",
       "    <tr style=\"text-align: right;\">\n",
       "      <th></th>\n",
       "      <th>group</th>\n",
       "      <th>height</th>\n",
       "      <th>weight</th>\n",
       "      <th>ape_index</th>\n",
       "      <th>strength</th>\n",
       "      <th>flexibility</th>\n",
       "      <th>leg_len_factor</th>\n",
       "    </tr>\n",
       "  </thead>\n",
       "  <tbody>\n",
       "    <tr>\n",
       "      <th>0</th>\n",
       "      <td>casual</td>\n",
       "      <td>163.3</td>\n",
       "      <td>73.8</td>\n",
       "      <td>1.00</td>\n",
       "      <td>65</td>\n",
       "      <td>5</td>\n",
       "      <td>0.510348</td>\n",
       "    </tr>\n",
       "    <tr>\n",
       "      <th>1</th>\n",
       "      <td>casual</td>\n",
       "      <td>162.4</td>\n",
       "      <td>62.6</td>\n",
       "      <td>1.02</td>\n",
       "      <td>67</td>\n",
       "      <td>4</td>\n",
       "      <td>0.472300</td>\n",
       "    </tr>\n",
       "    <tr>\n",
       "      <th>2</th>\n",
       "      <td>casual</td>\n",
       "      <td>169.0</td>\n",
       "      <td>50.8</td>\n",
       "      <td>1.02</td>\n",
       "      <td>62</td>\n",
       "      <td>4</td>\n",
       "      <td>0.498026</td>\n",
       "    </tr>\n",
       "    <tr>\n",
       "      <th>3</th>\n",
       "      <td>casual</td>\n",
       "      <td>158.3</td>\n",
       "      <td>33.0</td>\n",
       "      <td>0.95</td>\n",
       "      <td>74</td>\n",
       "      <td>5</td>\n",
       "      <td>0.601822</td>\n",
       "    </tr>\n",
       "    <tr>\n",
       "      <th>4</th>\n",
       "      <td>casual</td>\n",
       "      <td>163.7</td>\n",
       "      <td>91.1</td>\n",
       "      <td>1.03</td>\n",
       "      <td>67</td>\n",
       "      <td>5</td>\n",
       "      <td>0.520042</td>\n",
       "    </tr>\n",
       "    <tr>\n",
       "      <th>...</th>\n",
       "      <td>...</td>\n",
       "      <td>...</td>\n",
       "      <td>...</td>\n",
       "      <td>...</td>\n",
       "      <td>...</td>\n",
       "      <td>...</td>\n",
       "      <td>...</td>\n",
       "    </tr>\n",
       "    <tr>\n",
       "      <th>295</th>\n",
       "      <td>elite</td>\n",
       "      <td>160.8</td>\n",
       "      <td>64.4</td>\n",
       "      <td>1.07</td>\n",
       "      <td>99</td>\n",
       "      <td>9</td>\n",
       "      <td>0.500846</td>\n",
       "    </tr>\n",
       "    <tr>\n",
       "      <th>296</th>\n",
       "      <td>elite</td>\n",
       "      <td>184.2</td>\n",
       "      <td>67.8</td>\n",
       "      <td>1.07</td>\n",
       "      <td>105</td>\n",
       "      <td>8</td>\n",
       "      <td>0.578098</td>\n",
       "    </tr>\n",
       "    <tr>\n",
       "      <th>297</th>\n",
       "      <td>elite</td>\n",
       "      <td>163.3</td>\n",
       "      <td>69.4</td>\n",
       "      <td>1.09</td>\n",
       "      <td>95</td>\n",
       "      <td>9</td>\n",
       "      <td>0.570675</td>\n",
       "    </tr>\n",
       "    <tr>\n",
       "      <th>298</th>\n",
       "      <td>elite</td>\n",
       "      <td>167.1</td>\n",
       "      <td>72.2</td>\n",
       "      <td>1.01</td>\n",
       "      <td>96</td>\n",
       "      <td>9</td>\n",
       "      <td>0.601026</td>\n",
       "    </tr>\n",
       "    <tr>\n",
       "      <th>299</th>\n",
       "      <td>elite</td>\n",
       "      <td>190.8</td>\n",
       "      <td>68.5</td>\n",
       "      <td>1.08</td>\n",
       "      <td>100</td>\n",
       "      <td>8</td>\n",
       "      <td>0.485801</td>\n",
       "    </tr>\n",
       "  </tbody>\n",
       "</table>\n",
       "<p>300 rows × 7 columns</p>\n",
       "</div>"
      ],
      "text/plain": [
       "      group  height  weight  ape_index  strength  flexibility  leg_len_factor\n",
       "0    casual   163.3    73.8       1.00        65            5        0.510348\n",
       "1    casual   162.4    62.6       1.02        67            4        0.472300\n",
       "2    casual   169.0    50.8       1.02        62            4        0.498026\n",
       "3    casual   158.3    33.0       0.95        74            5        0.601822\n",
       "4    casual   163.7    91.1       1.03        67            5        0.520042\n",
       "..      ...     ...     ...        ...       ...          ...             ...\n",
       "295   elite   160.8    64.4       1.07        99            9        0.500846\n",
       "296   elite   184.2    67.8       1.07       105            8        0.578098\n",
       "297   elite   163.3    69.4       1.09        95            9        0.570675\n",
       "298   elite   167.1    72.2       1.01        96            9        0.601026\n",
       "299   elite   190.8    68.5       1.08       100            8        0.485801\n",
       "\n",
       "[300 rows x 7 columns]"
      ]
     },
     "execution_count": 3,
     "metadata": {},
     "output_type": "execute_result"
    }
   ],
   "source": [
    "climbers"
   ]
  },
  {
   "cell_type": "code",
   "execution_count": 4,
   "id": "a01ed1d8",
   "metadata": {},
   "outputs": [],
   "source": [
    "unique_walls = walls_with_features[\"filename\"].unique()\n",
    "wall_climber_pairs = [\n",
    "    (filename, idx, climbers.loc[idx, \"group\"])\n",
    "    for filename, idx in product(unique_walls, climbers.index)\n",
    "]"
   ]
  },
  {
   "cell_type": "code",
   "execution_count": 16,
   "id": "2374c61a",
   "metadata": {},
   "outputs": [],
   "source": [
    "graph_list = []\n",
    "times = 20\n",
    "\n",
    "for filename, group in walls_with_features.groupby(\"filename\"):\n",
    "    group = group.dropna(subset=[\"center_x\", \"center_y\"])\n",
    "    # Filter out the holds of wall that less than 6\n",
    "    if len(group) < 6:\n",
    "        continue\n",
    "\n",
    "    route_points = group.to_dict(orient='records')\n",
    "\n",
    "    for _, climber in climbers.iterrows():\n",
    "        for n in range(times):\n",
    "            hands, feet = sample_hand_foot_points(route_points, climber)\n",
    "            if hands is None or feet is None:\n",
    "                continue\n",
    "        \n",
    "            node_feats = []\n",
    "            labels = []\n",
    "\n",
    "            for p in route_points:\n",
    "                node_feats.append([\n",
    "                    p[\"center_x\"],\n",
    "                    p[\"center_y\"],\n",
    "                    p.get(\"shape_area\", 0),\n",
    "                    p.get(\"shape_perimeter\"),\n",
    "                    p.get(\"shape_aspect_ratio\", 0),\n",
    "                    p.get(\"shape_circularity\", 0)\n",
    "                ])\n",
    "                labels.append(get_reachability_label_with_shape(p, hands, feet, climber))\n",
    "            \n",
    "            label_array = np.array(labels)\n",
    "            zero_ratio = np.mean(label_array == 0)\n",
    "            if zero_ratio > 0.95:\n",
    "                continue\n",
    "\n",
    "            x = torch.tensor(node_feats, dtype=torch.float)\n",
    "            y = torch.tensor(labels, dtype=torch.long)\n",
    "\n",
    "            # Edge construction via KNN\n",
    "            pos = np.array([[p[\"center_x\"], p[\"center_y\"]] for p in route_points])\n",
    "            nbrs = NearestNeighbors(n_neighbors=min(8, len(pos))).fit(pos)\n",
    "            _, indices = nbrs.kneighbors(pos)\n",
    "\n",
    "            edge_index = []\n",
    "            for i, neigh in enumerate(indices):\n",
    "                for j in neigh:\n",
    "                    if i != j:\n",
    "                        edge_index.append([i, j])\n",
    "            edge_index = torch.tensor(edge_index, dtype=torch.long).T\n",
    "\n",
    "            climber_feat = torch.tensor([\n",
    "                climber[\"height\"], climber[\"ape_index\"],\n",
    "                climber[\"flexibility\"], climber[\"leg_len_factor\"]\n",
    "            ], dtype=torch.float)\n",
    "\n",
    "            graph = Data(x=x, edge_index=edge_index, y=y, climber=climber_feat)\n",
    "            graph_list.append(graph)"
   ]
  },
  {
   "cell_type": "code",
   "execution_count": 17,
   "id": "04fd7910",
   "metadata": {},
   "outputs": [
    {
     "data": {
      "text/plain": [
       "89644"
      ]
     },
     "execution_count": 17,
     "metadata": {},
     "output_type": "execute_result"
    }
   ],
   "source": [
    "len(graph_list)"
   ]
  },
  {
   "cell_type": "code",
   "execution_count": 19,
   "id": "1ad50ba9",
   "metadata": {},
   "outputs": [],
   "source": [
    "torch.save(graph_list, \"graph_list_holds_features.pt\")"
   ]
  }
 ],
 "metadata": {
  "kernelspec": {
   "display_name": "Python 3",
   "language": "python",
   "name": "python3"
  },
  "language_info": {
   "codemirror_mode": {
    "name": "ipython",
    "version": 3
   },
   "file_extension": ".py",
   "mimetype": "text/x-python",
   "name": "python",
   "nbconvert_exporter": "python",
   "pygments_lexer": "ipython3",
   "version": "3.10.9"
  }
 },
 "nbformat": 4,
 "nbformat_minor": 5
}
