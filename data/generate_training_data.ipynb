{
 "cells": [
  {
   "cell_type": "markdown",
   "id": "4dd6ec4d",
   "metadata": {},
   "source": [
    "# This file is to generate the training data (wall + climber + pos)\n",
    "- Wall: 15 different walls\n",
    "- Climber: 300 climbers divided into casual, skilled, elite\n",
    "- Pos: current position (hands position and feet position)"
   ]
  },
  {
   "cell_type": "code",
   "execution_count": 53,
   "id": "27a882ee",
   "metadata": {},
   "outputs": [],
   "source": [
    "import pandas as pd\n",
    "\n",
    "# Load the files\n",
    "walls = pd.read_csv(\"climbing_data.csv\")\n",
    "climbers = pd.read_csv(\"all_climbers.csv\")"
   ]
  },
  {
   "cell_type": "code",
   "execution_count": 54,
   "id": "8e411eba",
   "metadata": {},
   "outputs": [],
   "source": [
    "climbers = climbers.drop(columns=[\"Unnamed: 0\"])"
   ]
  },
  {
   "cell_type": "code",
   "execution_count": 55,
   "id": "f3259072",
   "metadata": {},
   "outputs": [],
   "source": [
    "from ast import literal_eval\n",
    "walls[\"points\"] = walls[\"points\"].apply(literal_eval)"
   ]
  },
  {
   "cell_type": "code",
   "execution_count": 56,
   "id": "9e3be54d",
   "metadata": {},
   "outputs": [],
   "source": [
    "import sys\n",
    "sys.path.append(\"../src\")\n",
    "\n",
    "from dataset_function import sample_grap_points_by_radius\n",
    "# Generate the Training Data\n",
    "times = 20\n",
    "data = {\n",
    "    \"route\": [],\n",
    "    \"climber\": [],\n",
    "    \"hands\": [],\n",
    "    \"feet\": []\n",
    "}\n",
    "\n",
    "for w in walls[\"points\"]:\n",
    "    for _, c in climbers.iterrows():\n",
    "        for n in range(times):\n",
    "            hands, feet, center = sample_grap_points_by_radius(route=w,\n",
    "                                                               climber=c,\n",
    "                                                               max_trials=100)\n",
    "            data[\"route\"].append(w)\n",
    "            data[\"climber\"].append({\"group\": c[\"group\"],\n",
    "                                    \"height\": c[\"height\"],\n",
    "                                    \"weight\": c[\"weight\"],\n",
    "                                    \"ape_index\": c[\"ape_index\"],\n",
    "                                    \"strength\": c[\"strength\"],\n",
    "                                    \"flexibility\": c[\"flexibility\"],\n",
    "                                    \"leg_len_factor\": c[\"leg_len_factor\"]})\n",
    "            data[\"hands\"].append(hands)\n",
    "            data[\"feet\"].append(feet)"
   ]
  },
  {
   "cell_type": "code",
   "execution_count": 57,
   "id": "d7fc28b6",
   "metadata": {},
   "outputs": [],
   "source": [
    "df = pd.DataFrame(data)"
   ]
  },
  {
   "cell_type": "code",
   "execution_count": 64,
   "id": "a06c48aa",
   "metadata": {},
   "outputs": [],
   "source": [
    "df.to_csv(\"reachability_dataset.csv\", index=False)"
   ]
  }
 ],
 "metadata": {
  "kernelspec": {
   "display_name": "Python 3",
   "language": "python",
   "name": "python3"
  },
  "language_info": {
   "codemirror_mode": {
    "name": "ipython",
    "version": 3
   },
   "file_extension": ".py",
   "mimetype": "text/x-python",
   "name": "python",
   "nbconvert_exporter": "python",
   "pygments_lexer": "ipython3",
   "version": "3.10.9"
  }
 },
 "nbformat": 4,
 "nbformat_minor": 5
}
