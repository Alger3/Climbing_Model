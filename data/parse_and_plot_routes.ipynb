{
 "cells": [
  {
   "cell_type": "code",
   "execution_count": 38,
   "id": "8d8fae5f",
   "metadata": {},
   "outputs": [],
   "source": [
    "import pandas as pd\n",
    "\n",
    "data = pd.read_csv(\"bh-annotation.csv\",encoding='utf-8')"
   ]
  },
  {
   "cell_type": "code",
   "execution_count": 39,
   "id": "9d7875d3",
   "metadata": {},
   "outputs": [],
   "source": [
    "# Clean the routes without catch points\n",
    "data = data[~(data[\"region_count\"]==0)]"
   ]
  },
  {
   "cell_type": "code",
   "execution_count": 40,
   "id": "db450c47",
   "metadata": {},
   "outputs": [],
   "source": [
    "# Delete unused columns\n",
    "data = data.drop(\"file_size\",axis=1)\n",
    "data = data.drop(\"file_attributes\",axis=1)"
   ]
  },
  {
   "cell_type": "code",
   "execution_count": 41,
   "id": "96f68288",
   "metadata": {},
   "outputs": [
    {
     "name": "stdout",
     "output_type": "stream",
     "text": [
      "15\n"
     ]
    }
   ],
   "source": [
    "# Calculate how many routes leave\n",
    "n_routes = data[\"filename\"].nunique()\n",
    "print(n_routes)"
   ]
  },
  {
   "cell_type": "code",
   "execution_count": 44,
   "id": "2be3d891",
   "metadata": {},
   "outputs": [],
   "source": [
    "import json\n",
    "\n",
    "#Define a function to calculate the center of catch points\n",
    "def hold_centers(data):\n",
    "    routes = {}\n",
    "    for _,row in data.iterrows():\n",
    "        image = row[\"filename\"]\n",
    "        shape = json.loads(row[\"region_shape_attributes\"])\n",
    "        x = shape[\"all_points_x\"]\n",
    "        y = shape[\"all_points_y\"]\n",
    "\n",
    "        center_x = sum(x) / len(x)\n",
    "        center_y = sum(y) / len(y)\n",
    "\n",
    "        if image not in routes:\n",
    "            routes[image] = []\n",
    "        \n",
    "        routes[image].append((center_x,center_y))\n",
    "\n",
    "    return routes\n",
    "\n",
    "routes = hold_centers(data)"
   ]
  }
 ],
 "metadata": {
  "kernelspec": {
   "display_name": "Python 3",
   "language": "python",
   "name": "python3"
  },
  "language_info": {
   "codemirror_mode": {
    "name": "ipython",
    "version": 3
   },
   "file_extension": ".py",
   "mimetype": "text/x-python",
   "name": "python",
   "nbconvert_exporter": "python",
   "pygments_lexer": "ipython3",
   "version": "3.10.9"
  }
 },
 "nbformat": 4,
 "nbformat_minor": 5
}
