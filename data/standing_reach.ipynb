{
 "cells": [
  {
   "cell_type": "code",
   "execution_count": 1,
   "id": "4dfc50b3",
   "metadata": {},
   "outputs": [],
   "source": [
    "import pandas as pd"
   ]
  },
  {
   "cell_type": "code",
   "execution_count": 19,
   "id": "73a8f19d",
   "metadata": {},
   "outputs": [],
   "source": [
    "anthropometry = pd.read_excel(\"anthropometry.xlsx\").dropna()"
   ]
  },
  {
   "cell_type": "code",
   "execution_count": 20,
   "id": "23029225",
   "metadata": {},
   "outputs": [
    {
     "name": "stderr",
     "output_type": "stream",
     "text": [
      "C:\\Users\\guanj\\AppData\\Local\\Temp\\ipykernel_3304\\1180885468.py:5: SettingWithCopyWarning: \n",
      "A value is trying to be set on a copy of a slice from a DataFrame\n",
      "\n",
      "See the caveats in the documentation: https://pandas.pydata.org/pandas-docs/stable/user_guide/indexing.html#returning-a-view-versus-a-copy\n",
      "  df.rename(columns={\n"
     ]
    }
   ],
   "source": [
    "df = anthropometry[['2.Stature height (cm)', \n",
    "               '11.Arms spread, standing (cm)', \n",
    "               \"7.Arm's reach, standing (cm)\"]]\n",
    "\n",
    "df.rename(columns={\n",
    "    '2.Stature height (cm)': 'Height',\n",
    "    '11.Arms spread, standing (cm)': 'ArmSpan',\n",
    "    \"7.Arm's reach, standing (cm)\": 'StandingReach'\n",
    "}, inplace=True)"
   ]
  },
  {
   "cell_type": "code",
   "execution_count": 21,
   "id": "c6820b04",
   "metadata": {},
   "outputs": [
    {
     "name": "stdout",
     "output_type": "stream",
     "text": [
      "StandingReach ≈ 55.581 + 0.121·Height + 0.814·ArmSpan\n"
     ]
    }
   ],
   "source": [
    "import statsmodels.api as sm\n",
    "X = df[['Height','ArmSpan']]\n",
    "X = sm.add_constant(X)\n",
    "y = df['StandingReach']\n",
    "\n",
    "model = sm.OLS(y, X).fit()\n",
    "params = model.params\n",
    "print(f\"StandingReach ≈ {params['const']:.3f} \"\n",
    "      f\"+ {params['Height']:.3f}·Height \"\n",
    "      f\"+ {params['ArmSpan']:.3f}·ArmSpan\")\n"
   ]
  }
 ],
 "metadata": {
  "kernelspec": {
   "display_name": "Python 3",
   "language": "python",
   "name": "python3"
  },
  "language_info": {
   "codemirror_mode": {
    "name": "ipython",
    "version": 3
   },
   "file_extension": ".py",
   "mimetype": "text/x-python",
   "name": "python",
   "nbconvert_exporter": "python",
   "pygments_lexer": "ipython3",
   "version": "3.10.9"
  }
 },
 "nbformat": 4,
 "nbformat_minor": 5
}
