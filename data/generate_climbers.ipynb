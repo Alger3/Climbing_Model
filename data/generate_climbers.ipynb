{
 "cells": [
  {
   "cell_type": "code",
   "execution_count": 1,
   "id": "116a28a2",
   "metadata": {},
   "outputs": [],
   "source": [
    "import sys\n",
    "sys.path.append(\"../src\")\n",
    "import climber_simulator as cs\n",
    "import pandas as pd"
   ]
  },
  {
   "cell_type": "code",
   "execution_count": 2,
   "id": "f8b108f4",
   "metadata": {},
   "outputs": [],
   "source": [
    "casual = []\n",
    "skilled = []\n",
    "elite = []\n",
    "\n",
    "# build 100 data for each category\n",
    "for _ in range(100):\n",
    "    casual.append(cs.simulator('casual'))\n",
    "    skilled.append(cs.simulator('skilled'))\n",
    "    elite.append(cs.simulator('elite'))\n",
    "\n",
    "df_casual = pd.DataFrame(casual)\n",
    "df_skilled = pd.DataFrame(skilled)\n",
    "df_elite = pd.DataFrame(elite)\n"
   ]
  },
  {
   "cell_type": "code",
   "execution_count": 3,
   "id": "5f72d021",
   "metadata": {},
   "outputs": [],
   "source": [
    "df_casual.to_csv(\"casual_dataset.csv\",index=False)\n",
    "df_skilled.to_csv(\"skilled_dataset.csv\",index=False)\n",
    "df_elite.to_csv(\"elite_dataset.csv\",index=False)"
   ]
  },
  {
   "cell_type": "markdown",
   "id": "1b62e715",
   "metadata": {},
   "source": [
    "# Label the feasibility to climbers with differnt climbing routes"
   ]
  },
  {
   "cell_type": "code",
   "execution_count": 4,
   "id": "344756a4",
   "metadata": {},
   "outputs": [],
   "source": [
    "from ast import literal_eval\n",
    "\n",
    "casual_climbers = pd.read_csv(\"casual_dataset.csv\")\n",
    "skilled_climbers = pd.read_csv(\"skilled_dataset.csv\")\n",
    "elite_climbers = pd.read_csv(\"elite_dataset.csv\")\n",
    "routes = pd.read_csv(\"simulated_routes.csv\")\n",
    "routes[\"parsed_points\"] = routes[\"points\"].apply(literal_eval)"
   ]
  },
  {
   "cell_type": "code",
   "execution_count": 5,
   "id": "c545b70a",
   "metadata": {},
   "outputs": [],
   "source": [
    "from assign_feasibility import is_route_feasible\n",
    "from math import dist\n",
    "\n",
    "casuals = []\n",
    "skilleds = []\n",
    "elites = []\n",
    "\n",
    "category = {\n",
    "    \"casual_climbers\": casual_climbers,\n",
    "    \"skilled_climbers\": skilled_climbers,\n",
    "    \"elite_climbers\": elite_climbers\n",
    "}\n",
    "\n",
    "# Label feasibility\n",
    "for name, type in category.items():\n",
    "    for i, climber in type.iterrows():\n",
    "        for j, row in routes.iterrows():\n",
    "            points = row['parsed_points']\n",
    "            max_distance = max(dist(points[k], points[k + 1]) for k in range(len(points) - 1))\n",
    "            sample = {\n",
    "                \"climber_id\": f\"climber_{i:03d}\",\n",
    "                \"route_id\": row[\"route_id\"],\n",
    "                \"feasible\": int(is_route_feasible(climber, points)),\n",
    "                \"features\": {\n",
    "                    \"height\": round(climber[\"height\"], 1),\n",
    "                    \"weight\": round(climber[\"weight\"], 1),\n",
    "                    \"ape_index\": round(climber[\"ape_index\"], 2),\n",
    "                    \"strength\": int(climber[\"strength\"]),\n",
    "                    \"flexibility\": int(climber[\"flexibility\"]),\n",
    "                    \"n_points\": len(points),\n",
    "                    \"max_hold_distance\": round(max_distance, 2)\n",
    "                }\n",
    "            }\n",
    "            if name == \"casual_climbers\":\n",
    "                casuals.append(sample)\n",
    "            elif name == \"skilled_climbers\":\n",
    "                skilleds.append(sample)\n",
    "            else:\n",
    "                elites.append(sample)"
   ]
  },
  {
   "cell_type": "code",
   "execution_count": 6,
   "id": "474a6ae8",
   "metadata": {},
   "outputs": [
    {
     "name": "stdout",
     "output_type": "stream",
     "text": [
      "263.3359607516603\n",
      "243.3781192322061\n",
      "266.71519388552593\n",
      "260.4782795894311\n",
      "244.6262573923436\n",
      "206.59672373455305\n",
      "219.5507555384169\n",
      "209.15431377150884\n",
      "219.5507555384169\n",
      "219.5507555384169\n",
      "229.48368030210779\n",
      "245.92959245996062\n",
      "231.97405635558985\n",
      "229.1793446190123\n",
      "267.81650441866094\n",
      "198.11815585165647\n",
      "264.45954037266233\n",
      "211.40951695090962\n",
      "223.5285095354683\n",
      "267.73110368372625\n",
      "263.0761025495343\n",
      "139.94076259480536\n",
      "255.1785420453847\n",
      "269.33128516164663\n",
      "261.85185296270106\n",
      "264.28502394535775\n",
      "247.80743179039453\n",
      "202.84757708117965\n",
      "264.28502394535775\n",
      "247.80743179039453\n",
      "268.5015576927478\n",
      "257.6352234090854\n",
      "248.7098899015886\n",
      "239.13656204185105\n",
      "259.73856079091274\n",
      "267.25154807395495\n",
      "232.3911233858032\n",
      "259.33376455737584\n",
      "264.7565106021946\n",
      "238.39494370189314\n",
      "233.1847124230499\n",
      "235.3044809750323\n",
      "247.24760141657592\n",
      "261.46733251992794\n",
      "257.3458961713786\n",
      "246.84546840254006\n",
      "216.69131045866015\n",
      "258.63810282725717\n",
      "249.83493268681417\n",
      "263.1391119427071\n",
      "258.42895909707954\n",
      "259.1831246464867\n",
      "255.40143158014754\n",
      "245.48020815377754\n",
      "266.6234531330447\n",
      "256.571125349836\n",
      "256.571125349836\n",
      "256.571125349836\n",
      "256.571125349836\n",
      "266.31093663387213\n",
      "250.39211485757934\n",
      "187.26557741710974\n",
      "263.1127633734252\n",
      "258.7058383453124\n",
      "256.05850039590575\n",
      "244.55975473688653\n",
      "253.52022426490578\n",
      "265.94330408013053\n",
      "269.00775911244534\n",
      "267.6590808319342\n",
      "218.3177037383297\n",
      "263.1008020850801\n",
      "195.16063187373243\n",
      "266.02926880867983\n",
      "229.1235291143384\n"
     ]
    }
   ],
   "source": [
    "from route_parser import pixel_dist\n",
    "\n",
    "for j, row in routes.iterrows():\n",
    "    points = row['parsed_points']\n",
    "    max_distance = max(pixel_dist(points[k], points[k + 1]) for k in range(len(points) - 1))\n",
    "    print(max_distance)"
   ]
  },
  {
   "cell_type": "code",
   "execution_count": null,
   "id": "85f3a92f",
   "metadata": {},
   "outputs": [
    {
     "data": {
      "text/plain": [
       "247.8484"
      ]
     },
     "execution_count": 10,
     "metadata": {},
     "output_type": "execute_result"
    }
   ],
   "source": [
    "# height = 180\n",
    "# ape_index = 1.02\n",
    "# flexibility = 9\n",
    "# strength = 117\n",
    "# weight = 70\n",
    "\n",
    "# reach = height * ape_index \n",
    "# flex_bonus = (flexibility/10)*0.15\n",
    "# strength_bonus = (strength/100)*0.2\n",
    "# weight_penalty = weight*0.05\n",
    "# max_reach = reach * (1 + strength_bonus + flex_bonus) - weight_penalty\n",
    "\n",
    "# max_reach"
   ]
  }
 ],
 "metadata": {
  "kernelspec": {
   "display_name": "Python 3",
   "language": "python",
   "name": "python3"
  },
  "language_info": {
   "codemirror_mode": {
    "name": "ipython",
    "version": 3
   },
   "file_extension": ".py",
   "mimetype": "text/x-python",
   "name": "python",
   "nbconvert_exporter": "python",
   "pygments_lexer": "ipython3",
   "version": "3.10.9"
  }
 },
 "nbformat": 4,
 "nbformat_minor": 5
}
