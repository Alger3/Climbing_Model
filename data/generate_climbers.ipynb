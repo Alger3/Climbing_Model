{
 "cells": [
  {
   "cell_type": "code",
   "execution_count": 1,
   "id": "116a28a2",
   "metadata": {},
   "outputs": [],
   "source": [
    "import sys\n",
    "sys.path.append(\"../src\")\n",
    "import climber_simulator as cs\n",
    "import pandas as pd"
   ]
  },
  {
   "cell_type": "code",
   "execution_count": null,
   "id": "f8b108f4",
   "metadata": {},
   "outputs": [],
   "source": [
    "casual = []\n",
    "skilled = []\n",
    "elite = []\n",
    "\n",
    "# build 100 data for each category\n",
    "for _ in range(100):\n",
    "    casual.append(cs.simulator('casual'))\n",
    "    skilled.append(cs.simulator('skilled'))\n",
    "    elite.append(cs.simulator('elite'))\n",
    "\n",
    "df_casual = pd.DataFrame(casual)\n",
    "df_skilled = pd.DataFrame(skilled)\n",
    "df_elite = pd.DataFrame(elite)\n"
   ]
  },
  {
   "cell_type": "code",
   "execution_count": 4,
   "id": "5f72d021",
   "metadata": {},
   "outputs": [],
   "source": [
    "df_casual.to_csv(\"casual_dataset.csv\",index=False)\n",
    "df_skilled.to_csv(\"skilled_dataset.csv\",index=False)\n",
    "df_elite.to_csv(\"elite_dataset.csv\",index=False)"
   ]
  }
 ],
 "metadata": {
  "kernelspec": {
   "display_name": "Python 3",
   "language": "python",
   "name": "python3"
  },
  "language_info": {
   "codemirror_mode": {
    "name": "ipython",
    "version": 3
   },
   "file_extension": ".py",
   "mimetype": "text/x-python",
   "name": "python",
   "nbconvert_exporter": "python",
   "pygments_lexer": "ipython3",
   "version": "3.10.9"
  }
 },
 "nbformat": 4,
 "nbformat_minor": 5
}
