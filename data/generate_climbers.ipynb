{
 "cells": [
  {
   "cell_type": "code",
   "execution_count": 1,
   "id": "116a28a2",
   "metadata": {},
   "outputs": [],
   "source": [
    "import sys\n",
    "sys.path.append(\"../src\")\n",
    "import climber_simulator as cs\n",
    "import pandas as pd"
   ]
  },
  {
   "cell_type": "code",
   "execution_count": null,
   "id": "f8b108f4",
   "metadata": {},
   "outputs": [],
   "source": [
    "casual = []\n",
    "skilled = []\n",
    "elite = []\n",
    "\n",
    "# build 100 data for each category\n",
    "for _ in range(100):\n",
    "    casual.append(cs.simulator('casual'))\n",
    "    skilled.append(cs.simulator('skilled'))\n",
    "    elite.append(cs.simulator('elite'))\n",
    "\n",
    "df_casual = pd.DataFrame(casual)\n",
    "df_skilled = pd.DataFrame(skilled)\n",
    "df_elite = pd.DataFrame(elite)\n"
   ]
  },
  {
   "cell_type": "code",
   "execution_count": 4,
   "id": "5f72d021",
   "metadata": {},
   "outputs": [],
   "source": [
    "df_casual.to_csv(\"casual_dataset.csv\",index=False)\n",
    "df_skilled.to_csv(\"skilled_dataset.csv\",index=False)\n",
    "df_elite.to_csv(\"elite_dataset.csv\",index=False)"
   ]
  },
  {
   "cell_type": "markdown",
   "id": "1b62e715",
   "metadata": {},
   "source": [
    "# Label the feasibility to climbers with differnt climbing routes"
   ]
  },
  {
   "cell_type": "code",
   "execution_count": 18,
   "id": "344756a4",
   "metadata": {},
   "outputs": [],
   "source": [
    "from ast import literal_eval\n",
    "\n",
    "casual_climbers = pd.read_csv(\"casual_dataset.csv\")\n",
    "skilled_climbers = pd.read_csv(\"skilled_dataset.csv\")\n",
    "elite_climbers = pd.read_csv(\"elite_dataset.csv\")\n",
    "routes = pd.read_csv(\"climbing_data.csv\")\n",
    "routes[\"parsed_points\"] = routes[\"points\"].apply(literal_eval)"
   ]
  },
  {
   "cell_type": "code",
   "execution_count": null,
   "id": "c545b70a",
   "metadata": {},
   "outputs": [],
   "source": [
    "from route_parser import is_route_feasible\n",
    "from math import dist\n",
    "\n",
    "casuals = []\n",
    "skilleds = []\n",
    "elites = []\n",
    "\n",
    "category = {\n",
    "    \"casual_climbers\": casual_climbers,\n",
    "    \"skilled_climbers\": skilled_climbers,\n",
    "    \"elite_climbers\": elite_climbers\n",
    "}\n",
    "\n",
    "# Label feasibility\n",
    "for name, type in category.items():\n",
    "    for i, climber in type.iterrows():\n",
    "        for j, row in routes.iterrows():\n",
    "            points = row['parsed_points']\n",
    "            max_distance = max(dist(points[k], points[k + 1]) for k in range(len(points) - 1))\n",
    "            sample = {\n",
    "                \"climber_id\": f\"climber_{i:03d}\",\n",
    "                \"route_id\": row[\"name\"],\n",
    "                \"feasible\": int(is_route_feasible(climber, points)),\n",
    "                \"features\": {\n",
    "                    \"height\": round(climber[\"height\"], 1),\n",
    "                    \"weight\": round(climber[\"weight\"], 1),\n",
    "                    \"ape_index\": round(climber[\"ape_index\"], 2),\n",
    "                    \"strength\": int(climber[\"strength\"]),\n",
    "                    \"flexibility\": int(climber[\"flexibility\"]),\n",
    "                    \"n_points\": len(points),\n",
    "                    \"max_hold_distance\": round(max_distance, 2)\n",
    "                }\n",
    "            }\n",
    "            if name == \"casual_climbers\":\n",
    "                casuals.append(sample)\n",
    "            elif name == \"skilled_climbers\":\n",
    "                skilleds.append(sample)\n",
    "            else:\n",
    "                elites.append(sample)"
   ]
  }
 ],
 "metadata": {
  "kernelspec": {
   "display_name": "Python 3",
   "language": "python",
   "name": "python3"
  },
  "language_info": {
   "codemirror_mode": {
    "name": "ipython",
    "version": 3
   },
   "file_extension": ".py",
   "mimetype": "text/x-python",
   "name": "python",
   "nbconvert_exporter": "python",
   "pygments_lexer": "ipython3",
   "version": "3.10.9"
  }
 },
 "nbformat": 4,
 "nbformat_minor": 5
}
